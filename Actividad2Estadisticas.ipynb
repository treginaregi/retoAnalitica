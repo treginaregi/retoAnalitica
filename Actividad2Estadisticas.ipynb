{
  "nbformat": 4,
  "nbformat_minor": 0,
  "metadata": {
    "colab": {
      "provenance": []
    },
    "kernelspec": {
      "name": "python3",
      "display_name": "Python 3"
    },
    "language_info": {
      "name": "python"
    }
  },
  "cells": [
    {
      "cell_type": "markdown",
      "source": [
        "# **Actividad 2**: Obtención de estadísticas descriptivas"
      ],
      "metadata": {
        "id": "PooL-XLq44XS"
      }
    },
    {
      "cell_type": "markdown",
      "source": [
        "# Primer paso\n",
        "Importar las librerías necesarias para realizar el cálculo y estadísticas del archivo CVS."
      ],
      "metadata": {
        "id": "YkS_jevZ-fyE"
      }
    },
    {
      "cell_type": "code",
      "execution_count": null,
      "metadata": {
        "id": "6nv6_-8S4j-R"
      },
      "outputs": [],
      "source": [
        "import pandas as pd\n",
        "import numpy as np\n",
        "import matplotlib.pyplot as plt\n",
        "import statsmodels.formula.api as smf\n",
        "import scipy.stats as ss\n",
        "import seaborn as sns"
      ]
    },
    {
      "cell_type": "markdown",
      "source": [
        "#Segundo paso\n",
        "Importar el archivo \"avocado.csv\" y guardarlo en la variable datos.\n",
        "Para hacer esto se usa la librería pandas (importada como \"pd\")"
      ],
      "metadata": {
        "id": "naEzQbw8-pQr"
      }
    },
    {
      "cell_type": "code",
      "source": [
        "datos=pd.read_csv(\"avocado.csv\")\n",
        "datos"
      ],
      "metadata": {
        "colab": {
          "base_uri": "https://localhost:8080/",
          "height": 424
        },
        "id": "uvHwuBJz41Qm",
        "outputId": "c942af5e-d35c-407d-968d-6de8745905c6"
      },
      "execution_count": null,
      "outputs": [
        {
          "output_type": "execute_result",
          "data": {
            "text/plain": [
              "       Unnamed: 0        Date  AveragePrice  Total Volume     4046       4225  \\\n",
              "0               0  2015-12-27          1.33      64236.62  1036.74   54454.85   \n",
              "1               1  2015-12-20          1.35      54876.98   674.28   44638.81   \n",
              "2               2  2015-12-13          0.93     118220.22   794.70  109149.67   \n",
              "3               3  2015-12-06          1.08      78992.15  1132.00   71976.41   \n",
              "4               4  2015-11-29          1.28      51039.60   941.48   43838.39   \n",
              "...           ...         ...           ...           ...      ...        ...   \n",
              "18244           7  2018-02-04          1.63      17074.83  2046.96    1529.20   \n",
              "18245           8  2018-01-28          1.71      13888.04  1191.70    3431.50   \n",
              "18246           9  2018-01-21          1.87      13766.76  1191.92    2452.79   \n",
              "18247          10  2018-01-14          1.93      16205.22  1527.63    2981.04   \n",
              "18248          11  2018-01-07          1.62      17489.58  2894.77    2356.13   \n",
              "\n",
              "         4770  Total Bags  Small Bags  Large Bags  XLarge Bags          type  \\\n",
              "0       48.16     8696.87     8603.62       93.25          0.0  conventional   \n",
              "1       58.33     9505.56     9408.07       97.49          0.0  conventional   \n",
              "2      130.50     8145.35     8042.21      103.14          0.0  conventional   \n",
              "3       72.58     5811.16     5677.40      133.76          0.0  conventional   \n",
              "4       75.78     6183.95     5986.26      197.69          0.0  conventional   \n",
              "...       ...         ...         ...         ...          ...           ...   \n",
              "18244    0.00    13498.67    13066.82      431.85          0.0       organic   \n",
              "18245    0.00     9264.84     8940.04      324.80          0.0       organic   \n",
              "18246  727.94     9394.11     9351.80       42.31          0.0       organic   \n",
              "18247  727.01    10969.54    10919.54       50.00          0.0       organic   \n",
              "18248  224.53    12014.15    11988.14       26.01          0.0       organic   \n",
              "\n",
              "       year            region  \n",
              "0      2015            Albany  \n",
              "1      2015            Albany  \n",
              "2      2015            Albany  \n",
              "3      2015            Albany  \n",
              "4      2015            Albany  \n",
              "...     ...               ...  \n",
              "18244  2018  WestTexNewMexico  \n",
              "18245  2018  WestTexNewMexico  \n",
              "18246  2018  WestTexNewMexico  \n",
              "18247  2018  WestTexNewMexico  \n",
              "18248  2018  WestTexNewMexico  \n",
              "\n",
              "[18249 rows x 14 columns]"
            ],
            "text/html": [
              "\n",
              "  <div id=\"df-c781bbe5-11f2-4186-8aec-4a7c4d9e1f61\" class=\"colab-df-container\">\n",
              "    <div>\n",
              "<style scoped>\n",
              "    .dataframe tbody tr th:only-of-type {\n",
              "        vertical-align: middle;\n",
              "    }\n",
              "\n",
              "    .dataframe tbody tr th {\n",
              "        vertical-align: top;\n",
              "    }\n",
              "\n",
              "    .dataframe thead th {\n",
              "        text-align: right;\n",
              "    }\n",
              "</style>\n",
              "<table border=\"1\" class=\"dataframe\">\n",
              "  <thead>\n",
              "    <tr style=\"text-align: right;\">\n",
              "      <th></th>\n",
              "      <th>Unnamed: 0</th>\n",
              "      <th>Date</th>\n",
              "      <th>AveragePrice</th>\n",
              "      <th>Total Volume</th>\n",
              "      <th>4046</th>\n",
              "      <th>4225</th>\n",
              "      <th>4770</th>\n",
              "      <th>Total Bags</th>\n",
              "      <th>Small Bags</th>\n",
              "      <th>Large Bags</th>\n",
              "      <th>XLarge Bags</th>\n",
              "      <th>type</th>\n",
              "      <th>year</th>\n",
              "      <th>region</th>\n",
              "    </tr>\n",
              "  </thead>\n",
              "  <tbody>\n",
              "    <tr>\n",
              "      <th>0</th>\n",
              "      <td>0</td>\n",
              "      <td>2015-12-27</td>\n",
              "      <td>1.33</td>\n",
              "      <td>64236.62</td>\n",
              "      <td>1036.74</td>\n",
              "      <td>54454.85</td>\n",
              "      <td>48.16</td>\n",
              "      <td>8696.87</td>\n",
              "      <td>8603.62</td>\n",
              "      <td>93.25</td>\n",
              "      <td>0.0</td>\n",
              "      <td>conventional</td>\n",
              "      <td>2015</td>\n",
              "      <td>Albany</td>\n",
              "    </tr>\n",
              "    <tr>\n",
              "      <th>1</th>\n",
              "      <td>1</td>\n",
              "      <td>2015-12-20</td>\n",
              "      <td>1.35</td>\n",
              "      <td>54876.98</td>\n",
              "      <td>674.28</td>\n",
              "      <td>44638.81</td>\n",
              "      <td>58.33</td>\n",
              "      <td>9505.56</td>\n",
              "      <td>9408.07</td>\n",
              "      <td>97.49</td>\n",
              "      <td>0.0</td>\n",
              "      <td>conventional</td>\n",
              "      <td>2015</td>\n",
              "      <td>Albany</td>\n",
              "    </tr>\n",
              "    <tr>\n",
              "      <th>2</th>\n",
              "      <td>2</td>\n",
              "      <td>2015-12-13</td>\n",
              "      <td>0.93</td>\n",
              "      <td>118220.22</td>\n",
              "      <td>794.70</td>\n",
              "      <td>109149.67</td>\n",
              "      <td>130.50</td>\n",
              "      <td>8145.35</td>\n",
              "      <td>8042.21</td>\n",
              "      <td>103.14</td>\n",
              "      <td>0.0</td>\n",
              "      <td>conventional</td>\n",
              "      <td>2015</td>\n",
              "      <td>Albany</td>\n",
              "    </tr>\n",
              "    <tr>\n",
              "      <th>3</th>\n",
              "      <td>3</td>\n",
              "      <td>2015-12-06</td>\n",
              "      <td>1.08</td>\n",
              "      <td>78992.15</td>\n",
              "      <td>1132.00</td>\n",
              "      <td>71976.41</td>\n",
              "      <td>72.58</td>\n",
              "      <td>5811.16</td>\n",
              "      <td>5677.40</td>\n",
              "      <td>133.76</td>\n",
              "      <td>0.0</td>\n",
              "      <td>conventional</td>\n",
              "      <td>2015</td>\n",
              "      <td>Albany</td>\n",
              "    </tr>\n",
              "    <tr>\n",
              "      <th>4</th>\n",
              "      <td>4</td>\n",
              "      <td>2015-11-29</td>\n",
              "      <td>1.28</td>\n",
              "      <td>51039.60</td>\n",
              "      <td>941.48</td>\n",
              "      <td>43838.39</td>\n",
              "      <td>75.78</td>\n",
              "      <td>6183.95</td>\n",
              "      <td>5986.26</td>\n",
              "      <td>197.69</td>\n",
              "      <td>0.0</td>\n",
              "      <td>conventional</td>\n",
              "      <td>2015</td>\n",
              "      <td>Albany</td>\n",
              "    </tr>\n",
              "    <tr>\n",
              "      <th>...</th>\n",
              "      <td>...</td>\n",
              "      <td>...</td>\n",
              "      <td>...</td>\n",
              "      <td>...</td>\n",
              "      <td>...</td>\n",
              "      <td>...</td>\n",
              "      <td>...</td>\n",
              "      <td>...</td>\n",
              "      <td>...</td>\n",
              "      <td>...</td>\n",
              "      <td>...</td>\n",
              "      <td>...</td>\n",
              "      <td>...</td>\n",
              "      <td>...</td>\n",
              "    </tr>\n",
              "    <tr>\n",
              "      <th>18244</th>\n",
              "      <td>7</td>\n",
              "      <td>2018-02-04</td>\n",
              "      <td>1.63</td>\n",
              "      <td>17074.83</td>\n",
              "      <td>2046.96</td>\n",
              "      <td>1529.20</td>\n",
              "      <td>0.00</td>\n",
              "      <td>13498.67</td>\n",
              "      <td>13066.82</td>\n",
              "      <td>431.85</td>\n",
              "      <td>0.0</td>\n",
              "      <td>organic</td>\n",
              "      <td>2018</td>\n",
              "      <td>WestTexNewMexico</td>\n",
              "    </tr>\n",
              "    <tr>\n",
              "      <th>18245</th>\n",
              "      <td>8</td>\n",
              "      <td>2018-01-28</td>\n",
              "      <td>1.71</td>\n",
              "      <td>13888.04</td>\n",
              "      <td>1191.70</td>\n",
              "      <td>3431.50</td>\n",
              "      <td>0.00</td>\n",
              "      <td>9264.84</td>\n",
              "      <td>8940.04</td>\n",
              "      <td>324.80</td>\n",
              "      <td>0.0</td>\n",
              "      <td>organic</td>\n",
              "      <td>2018</td>\n",
              "      <td>WestTexNewMexico</td>\n",
              "    </tr>\n",
              "    <tr>\n",
              "      <th>18246</th>\n",
              "      <td>9</td>\n",
              "      <td>2018-01-21</td>\n",
              "      <td>1.87</td>\n",
              "      <td>13766.76</td>\n",
              "      <td>1191.92</td>\n",
              "      <td>2452.79</td>\n",
              "      <td>727.94</td>\n",
              "      <td>9394.11</td>\n",
              "      <td>9351.80</td>\n",
              "      <td>42.31</td>\n",
              "      <td>0.0</td>\n",
              "      <td>organic</td>\n",
              "      <td>2018</td>\n",
              "      <td>WestTexNewMexico</td>\n",
              "    </tr>\n",
              "    <tr>\n",
              "      <th>18247</th>\n",
              "      <td>10</td>\n",
              "      <td>2018-01-14</td>\n",
              "      <td>1.93</td>\n",
              "      <td>16205.22</td>\n",
              "      <td>1527.63</td>\n",
              "      <td>2981.04</td>\n",
              "      <td>727.01</td>\n",
              "      <td>10969.54</td>\n",
              "      <td>10919.54</td>\n",
              "      <td>50.00</td>\n",
              "      <td>0.0</td>\n",
              "      <td>organic</td>\n",
              "      <td>2018</td>\n",
              "      <td>WestTexNewMexico</td>\n",
              "    </tr>\n",
              "    <tr>\n",
              "      <th>18248</th>\n",
              "      <td>11</td>\n",
              "      <td>2018-01-07</td>\n",
              "      <td>1.62</td>\n",
              "      <td>17489.58</td>\n",
              "      <td>2894.77</td>\n",
              "      <td>2356.13</td>\n",
              "      <td>224.53</td>\n",
              "      <td>12014.15</td>\n",
              "      <td>11988.14</td>\n",
              "      <td>26.01</td>\n",
              "      <td>0.0</td>\n",
              "      <td>organic</td>\n",
              "      <td>2018</td>\n",
              "      <td>WestTexNewMexico</td>\n",
              "    </tr>\n",
              "  </tbody>\n",
              "</table>\n",
              "<p>18249 rows × 14 columns</p>\n",
              "</div>\n",
              "    <div class=\"colab-df-buttons\">\n",
              "\n",
              "  <div class=\"colab-df-container\">\n",
              "    <button class=\"colab-df-convert\" onclick=\"convertToInteractive('df-c781bbe5-11f2-4186-8aec-4a7c4d9e1f61')\"\n",
              "            title=\"Convert this dataframe to an interactive table.\"\n",
              "            style=\"display:none;\">\n",
              "\n",
              "  <svg xmlns=\"http://www.w3.org/2000/svg\" height=\"24px\" viewBox=\"0 -960 960 960\">\n",
              "    <path d=\"M120-120v-720h720v720H120Zm60-500h600v-160H180v160Zm220 220h160v-160H400v160Zm0 220h160v-160H400v160ZM180-400h160v-160H180v160Zm440 0h160v-160H620v160ZM180-180h160v-160H180v160Zm440 0h160v-160H620v160Z\"/>\n",
              "  </svg>\n",
              "    </button>\n",
              "\n",
              "  <style>\n",
              "    .colab-df-container {\n",
              "      display:flex;\n",
              "      gap: 12px;\n",
              "    }\n",
              "\n",
              "    .colab-df-convert {\n",
              "      background-color: #E8F0FE;\n",
              "      border: none;\n",
              "      border-radius: 50%;\n",
              "      cursor: pointer;\n",
              "      display: none;\n",
              "      fill: #1967D2;\n",
              "      height: 32px;\n",
              "      padding: 0 0 0 0;\n",
              "      width: 32px;\n",
              "    }\n",
              "\n",
              "    .colab-df-convert:hover {\n",
              "      background-color: #E2EBFA;\n",
              "      box-shadow: 0px 1px 2px rgba(60, 64, 67, 0.3), 0px 1px 3px 1px rgba(60, 64, 67, 0.15);\n",
              "      fill: #174EA6;\n",
              "    }\n",
              "\n",
              "    .colab-df-buttons div {\n",
              "      margin-bottom: 4px;\n",
              "    }\n",
              "\n",
              "    [theme=dark] .colab-df-convert {\n",
              "      background-color: #3B4455;\n",
              "      fill: #D2E3FC;\n",
              "    }\n",
              "\n",
              "    [theme=dark] .colab-df-convert:hover {\n",
              "      background-color: #434B5C;\n",
              "      box-shadow: 0px 1px 3px 1px rgba(0, 0, 0, 0.15);\n",
              "      filter: drop-shadow(0px 1px 2px rgba(0, 0, 0, 0.3));\n",
              "      fill: #FFFFFF;\n",
              "    }\n",
              "  </style>\n",
              "\n",
              "    <script>\n",
              "      const buttonEl =\n",
              "        document.querySelector('#df-c781bbe5-11f2-4186-8aec-4a7c4d9e1f61 button.colab-df-convert');\n",
              "      buttonEl.style.display =\n",
              "        google.colab.kernel.accessAllowed ? 'block' : 'none';\n",
              "\n",
              "      async function convertToInteractive(key) {\n",
              "        const element = document.querySelector('#df-c781bbe5-11f2-4186-8aec-4a7c4d9e1f61');\n",
              "        const dataTable =\n",
              "          await google.colab.kernel.invokeFunction('convertToInteractive',\n",
              "                                                    [key], {});\n",
              "        if (!dataTable) return;\n",
              "\n",
              "        const docLinkHtml = 'Like what you see? Visit the ' +\n",
              "          '<a target=\"_blank\" href=https://colab.research.google.com/notebooks/data_table.ipynb>data table notebook</a>'\n",
              "          + ' to learn more about interactive tables.';\n",
              "        element.innerHTML = '';\n",
              "        dataTable['output_type'] = 'display_data';\n",
              "        await google.colab.output.renderOutput(dataTable, element);\n",
              "        const docLink = document.createElement('div');\n",
              "        docLink.innerHTML = docLinkHtml;\n",
              "        element.appendChild(docLink);\n",
              "      }\n",
              "    </script>\n",
              "  </div>\n",
              "\n",
              "\n",
              "<div id=\"df-31f997bb-d13b-4dcd-b82d-495ce46fa675\">\n",
              "  <button class=\"colab-df-quickchart\" onclick=\"quickchart('df-31f997bb-d13b-4dcd-b82d-495ce46fa675')\"\n",
              "            title=\"Suggest charts.\"\n",
              "            style=\"display:none;\">\n",
              "\n",
              "<svg xmlns=\"http://www.w3.org/2000/svg\" height=\"24px\"viewBox=\"0 0 24 24\"\n",
              "     width=\"24px\">\n",
              "    <g>\n",
              "        <path d=\"M19 3H5c-1.1 0-2 .9-2 2v14c0 1.1.9 2 2 2h14c1.1 0 2-.9 2-2V5c0-1.1-.9-2-2-2zM9 17H7v-7h2v7zm4 0h-2V7h2v10zm4 0h-2v-4h2v4z\"/>\n",
              "    </g>\n",
              "</svg>\n",
              "  </button>\n",
              "\n",
              "<style>\n",
              "  .colab-df-quickchart {\n",
              "      --bg-color: #E8F0FE;\n",
              "      --fill-color: #1967D2;\n",
              "      --hover-bg-color: #E2EBFA;\n",
              "      --hover-fill-color: #174EA6;\n",
              "      --disabled-fill-color: #AAA;\n",
              "      --disabled-bg-color: #DDD;\n",
              "  }\n",
              "\n",
              "  [theme=dark] .colab-df-quickchart {\n",
              "      --bg-color: #3B4455;\n",
              "      --fill-color: #D2E3FC;\n",
              "      --hover-bg-color: #434B5C;\n",
              "      --hover-fill-color: #FFFFFF;\n",
              "      --disabled-bg-color: #3B4455;\n",
              "      --disabled-fill-color: #666;\n",
              "  }\n",
              "\n",
              "  .colab-df-quickchart {\n",
              "    background-color: var(--bg-color);\n",
              "    border: none;\n",
              "    border-radius: 50%;\n",
              "    cursor: pointer;\n",
              "    display: none;\n",
              "    fill: var(--fill-color);\n",
              "    height: 32px;\n",
              "    padding: 0;\n",
              "    width: 32px;\n",
              "  }\n",
              "\n",
              "  .colab-df-quickchart:hover {\n",
              "    background-color: var(--hover-bg-color);\n",
              "    box-shadow: 0 1px 2px rgba(60, 64, 67, 0.3), 0 1px 3px 1px rgba(60, 64, 67, 0.15);\n",
              "    fill: var(--button-hover-fill-color);\n",
              "  }\n",
              "\n",
              "  .colab-df-quickchart-complete:disabled,\n",
              "  .colab-df-quickchart-complete:disabled:hover {\n",
              "    background-color: var(--disabled-bg-color);\n",
              "    fill: var(--disabled-fill-color);\n",
              "    box-shadow: none;\n",
              "  }\n",
              "\n",
              "  .colab-df-spinner {\n",
              "    border: 2px solid var(--fill-color);\n",
              "    border-color: transparent;\n",
              "    border-bottom-color: var(--fill-color);\n",
              "    animation:\n",
              "      spin 1s steps(1) infinite;\n",
              "  }\n",
              "\n",
              "  @keyframes spin {\n",
              "    0% {\n",
              "      border-color: transparent;\n",
              "      border-bottom-color: var(--fill-color);\n",
              "      border-left-color: var(--fill-color);\n",
              "    }\n",
              "    20% {\n",
              "      border-color: transparent;\n",
              "      border-left-color: var(--fill-color);\n",
              "      border-top-color: var(--fill-color);\n",
              "    }\n",
              "    30% {\n",
              "      border-color: transparent;\n",
              "      border-left-color: var(--fill-color);\n",
              "      border-top-color: var(--fill-color);\n",
              "      border-right-color: var(--fill-color);\n",
              "    }\n",
              "    40% {\n",
              "      border-color: transparent;\n",
              "      border-right-color: var(--fill-color);\n",
              "      border-top-color: var(--fill-color);\n",
              "    }\n",
              "    60% {\n",
              "      border-color: transparent;\n",
              "      border-right-color: var(--fill-color);\n",
              "    }\n",
              "    80% {\n",
              "      border-color: transparent;\n",
              "      border-right-color: var(--fill-color);\n",
              "      border-bottom-color: var(--fill-color);\n",
              "    }\n",
              "    90% {\n",
              "      border-color: transparent;\n",
              "      border-bottom-color: var(--fill-color);\n",
              "    }\n",
              "  }\n",
              "</style>\n",
              "\n",
              "  <script>\n",
              "    async function quickchart(key) {\n",
              "      const quickchartButtonEl =\n",
              "        document.querySelector('#' + key + ' button');\n",
              "      quickchartButtonEl.disabled = true;  // To prevent multiple clicks.\n",
              "      quickchartButtonEl.classList.add('colab-df-spinner');\n",
              "      try {\n",
              "        const charts = await google.colab.kernel.invokeFunction(\n",
              "            'suggestCharts', [key], {});\n",
              "      } catch (error) {\n",
              "        console.error('Error during call to suggestCharts:', error);\n",
              "      }\n",
              "      quickchartButtonEl.classList.remove('colab-df-spinner');\n",
              "      quickchartButtonEl.classList.add('colab-df-quickchart-complete');\n",
              "    }\n",
              "    (() => {\n",
              "      let quickchartButtonEl =\n",
              "        document.querySelector('#df-31f997bb-d13b-4dcd-b82d-495ce46fa675 button');\n",
              "      quickchartButtonEl.style.display =\n",
              "        google.colab.kernel.accessAllowed ? 'block' : 'none';\n",
              "    })();\n",
              "  </script>\n",
              "</div>\n",
              "    </div>\n",
              "  </div>\n"
            ]
          },
          "metadata": {},
          "execution_count": 5
        }
      ]
    },
    {
      "cell_type": "markdown",
      "source": [
        "#Tercer Paso\n",
        "\n",
        "Verifica la cantidad de datos que tienes, las variables que contiene cada vector de datos e identifica el tipo de variables.\n",
        "\n",
        "Se calcula la cantidad global de datos del archivo usando la función \"len()\""
      ],
      "metadata": {
        "id": "T1ciids8-0rw"
      }
    },
    {
      "cell_type": "code",
      "source": [
        "cantidad_de_datos = len(datos)\n",
        "print(cantidad_de_datos)"
      ],
      "metadata": {
        "colab": {
          "base_uri": "https://localhost:8080/"
        },
        "id": "ujck5PHm43VX",
        "outputId": "23926dc2-e4a8-4d7e-d750-35bed16165cc"
      },
      "execution_count": null,
      "outputs": [
        {
          "output_type": "stream",
          "name": "stdout",
          "text": [
            "18249\n"
          ]
        }
      ]
    },
    {
      "cell_type": "markdown",
      "source": [
        "Podemos obtener las columnas (variables) del archivo llamando a la variable que tiene almacenado el archivo y agrgar \".columns\" para guardar el valor de las columnas en una nueva variable."
      ],
      "metadata": {
        "id": "xHUolCjy_XXJ"
      }
    },
    {
      "cell_type": "code",
      "source": [
        "variables = datos.columns\n",
        "print(variables)"
      ],
      "metadata": {
        "colab": {
          "base_uri": "https://localhost:8080/"
        },
        "id": "xPzaMsuc5pxS",
        "outputId": "4079db34-1a36-46ec-f4d0-a8c00c464e6d"
      },
      "execution_count": null,
      "outputs": [
        {
          "output_type": "stream",
          "name": "stdout",
          "text": [
            "Index(['Unnamed: 0', 'Date', 'AveragePrice', 'Total Volume', '4046', '4225',\n",
            "       '4770', 'Total Bags', 'Small Bags', 'Large Bags', 'XLarge Bags', 'type',\n",
            "       'year', 'region'],\n",
            "      dtype='object')\n"
          ]
        }
      ]
    },
    {
      "cell_type": "markdown",
      "source": [
        "Así mismo, para obtener el tipo de cada variable solo debemos usar \".dtype\" aunado a la variable, en este caso se crea \"tipos_de_variables\" para almacenar estos valores en una sola variable e imprimirlos."
      ],
      "metadata": {
        "id": "S70riZOZ_wL7"
      }
    },
    {
      "cell_type": "code",
      "source": [
        "tipos_de_variables = datos.dtypes\n",
        "print(tipos_de_variables)"
      ],
      "metadata": {
        "colab": {
          "base_uri": "https://localhost:8080/"
        },
        "id": "2RcsIwAe51uD",
        "outputId": "9c143ae2-58b6-4f98-b0f6-bf94d25fcb7a"
      },
      "execution_count": null,
      "outputs": [
        {
          "output_type": "stream",
          "name": "stdout",
          "text": [
            "Unnamed: 0        int64\n",
            "Date             object\n",
            "AveragePrice    float64\n",
            "Total Volume    float64\n",
            "4046            float64\n",
            "4225            float64\n",
            "4770            float64\n",
            "Total Bags      float64\n",
            "Small Bags      float64\n",
            "Large Bags      float64\n",
            "XLarge Bags     float64\n",
            "type             object\n",
            "year              int64\n",
            "region           object\n",
            "dtype: object\n"
          ]
        }
      ]
    },
    {
      "cell_type": "markdown",
      "source": [
        "##Representación de las variables\n",
        "Explicación de lo que representa cada variable dentro del CVS.\n",
        "\n",
        "| Variable      | Descripción                                             |\n",
        "|---------------|--------------------------------------------------------|\n",
        "| Unnamed: 0    | Número entero que funciona como índice.|\n",
        "| Date          | Cadena de caracteres que representa una fecha.|\n",
        "| AveragePrice  | Número decimal de punto flotante que indica un precio promedio.|\n",
        "| Total Volume  | Número decimal de punto flotante que representa un volumen total (de los tipos de aguacate).|\n",
        "| 4046          | Número decimal de punto flotante, representa el código o identificador.          |\n",
        "| 4225          | Número decimal de punto flotante, representa el código o identificador.          |\n",
        "| 4770          | Número decimal de punto flotante, representa el código o identificador.          |\n",
        "| Total Bags    | Número decimal de punto flotante que indica la cantidad total de bolsas.   |\n",
        "| Small Bags    | Número decimal de punto flotante que indica la cantidad de bolsas pequeñas. |\n",
        "| Large Bags    | Número decimal de punto flotante que indica la cantidad de bolsas grandes. |\n",
        "| XLarge Bags   | Número decimal de punto flotante que indica la cantidad de bolsas extra grandes. |\n",
        "| type          | Cadena de caracteres que indica el tipo de producto. |\n",
        "| year          | Número entero que indica un año.     |\n",
        "| region        | Cadena de caracteres que indica una región.  |"
      ],
      "metadata": {
        "id": "mUnoBqAs9RFp"
      }
    },
    {
      "cell_type": "markdown",
      "source": [
        "# Cálculo de rangos de cada variable\n",
        "\n",
        "Usando una estructura \"for\" podemos recorrer las columnas buscando el valor mínimo y máximo que almacenan, de esa forma podemos mostrar el rango que cubre cada variable de nuestro archivo.\n"
      ],
      "metadata": {
        "id": "Q4WLB9iY9gvA"
      }
    },
    {
      "cell_type": "code",
      "source": [
        "for variable in variables:\n",
        "    min_valor = datos[variable].min()\n",
        "    max_valor = datos[variable].max()\n",
        "    print(f\"\\nVariable: {variable}\")\n",
        "    print(f\"Mínimo: {min_valor}\")\n",
        "    print(f\"Máximo: {max_valor}\")"
      ],
      "metadata": {
        "id": "qYP3jEZ78f9W",
        "outputId": "cc7bc9c3-b755-4268-c64d-6d218e9f1816",
        "colab": {
          "base_uri": "https://localhost:8080/"
        }
      },
      "execution_count": null,
      "outputs": [
        {
          "output_type": "stream",
          "name": "stdout",
          "text": [
            "\n",
            "Variable: Unnamed: 0\n",
            "Mínimo: 0\n",
            "Máximo: 52\n",
            "\n",
            "Variable: Date\n",
            "Mínimo: 2015-01-04\n",
            "Máximo: 2018-03-25\n",
            "\n",
            "Variable: AveragePrice\n",
            "Mínimo: 0.44\n",
            "Máximo: 3.25\n",
            "\n",
            "Variable: Total Volume\n",
            "Mínimo: 84.56\n",
            "Máximo: 62505646.52\n",
            "\n",
            "Variable: 4046\n",
            "Mínimo: 0.0\n",
            "Máximo: 22743616.17\n",
            "\n",
            "Variable: 4225\n",
            "Mínimo: 0.0\n",
            "Máximo: 20470572.61\n",
            "\n",
            "Variable: 4770\n",
            "Mínimo: 0.0\n",
            "Máximo: 2546439.11\n",
            "\n",
            "Variable: Total Bags\n",
            "Mínimo: 0.0\n",
            "Máximo: 19373134.37\n",
            "\n",
            "Variable: Small Bags\n",
            "Mínimo: 0.0\n",
            "Máximo: 13384586.8\n",
            "\n",
            "Variable: Large Bags\n",
            "Mínimo: 0.0\n",
            "Máximo: 5719096.61\n",
            "\n",
            "Variable: XLarge Bags\n",
            "Mínimo: 0.0\n",
            "Máximo: 551693.65\n",
            "\n",
            "Variable: type\n",
            "Mínimo: conventional\n",
            "Máximo: organic\n",
            "\n",
            "Variable: year\n",
            "Mínimo: 2015\n",
            "Máximo: 2018\n",
            "\n",
            "Variable: region\n",
            "Mínimo: Albany\n",
            "Máximo: WestTexNewMexico\n"
          ]
        }
      ]
    },
    {
      "cell_type": "markdown",
      "source": [
        "La función \"describe()\" es nativa de la librería pandas y permite mostrar las estadísticas de cada variable, eso incluye:\n",
        "\n",
        "\n",
        "*   Conteo de Elementos\n",
        "*   Promedio\n",
        "*   Desviación Estándar\n",
        "*   Valor Mínimo\n",
        "*   Valor Máximo\n",
        "*   Percentiles (25% a 75%)"
      ],
      "metadata": {
        "id": "8dclJjX3AgB7"
      }
    },
    {
      "cell_type": "code",
      "source": [
        "estadisticas = datos.describe()\n",
        "print(estadisticas)"
      ],
      "metadata": {
        "colab": {
          "base_uri": "https://localhost:8080/"
        },
        "id": "N6yTGHwG58TZ",
        "outputId": "c548a0b7-61df-4fcd-ddfa-83897943cd91"
      },
      "execution_count": null,
      "outputs": [
        {
          "output_type": "stream",
          "name": "stdout",
          "text": [
            "         Unnamed: 0  AveragePrice  Total Volume          4046          4225  \\\n",
            "count  18249.000000  18249.000000  1.824900e+04  1.824900e+04  1.824900e+04   \n",
            "mean      24.232232      1.405978  8.506440e+05  2.930084e+05  2.951546e+05   \n",
            "std       15.481045      0.402677  3.453545e+06  1.264989e+06  1.204120e+06   \n",
            "min        0.000000      0.440000  8.456000e+01  0.000000e+00  0.000000e+00   \n",
            "25%       10.000000      1.100000  1.083858e+04  8.540700e+02  3.008780e+03   \n",
            "50%       24.000000      1.370000  1.073768e+05  8.645300e+03  2.906102e+04   \n",
            "75%       38.000000      1.660000  4.329623e+05  1.110202e+05  1.502069e+05   \n",
            "max       52.000000      3.250000  6.250565e+07  2.274362e+07  2.047057e+07   \n",
            "\n",
            "               4770    Total Bags    Small Bags    Large Bags    XLarge Bags  \\\n",
            "count  1.824900e+04  1.824900e+04  1.824900e+04  1.824900e+04   18249.000000   \n",
            "mean   2.283974e+04  2.396392e+05  1.821947e+05  5.433809e+04    3106.426507   \n",
            "std    1.074641e+05  9.862424e+05  7.461785e+05  2.439660e+05   17692.894652   \n",
            "min    0.000000e+00  0.000000e+00  0.000000e+00  0.000000e+00       0.000000   \n",
            "25%    0.000000e+00  5.088640e+03  2.849420e+03  1.274700e+02       0.000000   \n",
            "50%    1.849900e+02  3.974383e+04  2.636282e+04  2.647710e+03       0.000000   \n",
            "75%    6.243420e+03  1.107834e+05  8.333767e+04  2.202925e+04     132.500000   \n",
            "max    2.546439e+06  1.937313e+07  1.338459e+07  5.719097e+06  551693.650000   \n",
            "\n",
            "               year  \n",
            "count  18249.000000  \n",
            "mean    2016.147899  \n",
            "std        0.939938  \n",
            "min     2015.000000  \n",
            "25%     2015.000000  \n",
            "50%     2016.000000  \n",
            "75%     2017.000000  \n",
            "max     2018.000000  \n"
          ]
        }
      ]
    },
    {
      "cell_type": "markdown",
      "source": [
        "Usando la función \".mean()\" de pandas podemos obtener la media de las variables almacenadas en nuestra variable datos (que incluye los datos del archivo avocado.csv)."
      ],
      "metadata": {
        "id": "bIGwFVn5Bbgd"
      }
    },
    {
      "cell_type": "code",
      "source": [
        "medias = datos.mean()\n",
        "print(medias)"
      ],
      "metadata": {
        "colab": {
          "base_uri": "https://localhost:8080/"
        },
        "id": "dhWSYfjc7my8",
        "outputId": "e1a18899-132b-4cf5-e0e1-bb23dbe49be9"
      },
      "execution_count": null,
      "outputs": [
        {
          "output_type": "stream",
          "name": "stdout",
          "text": [
            "Unnamed: 0          24.232232\n",
            "AveragePrice         1.405978\n",
            "Total Volume    850644.013009\n",
            "4046            293008.424531\n",
            "4225            295154.568356\n",
            "4770             22839.735993\n",
            "Total Bags      239639.202060\n",
            "Small Bags      182194.686696\n",
            "Large Bags       54338.088145\n",
            "XLarge Bags       3106.426507\n",
            "year              2016.147899\n",
            "dtype: float64\n"
          ]
        },
        {
          "output_type": "stream",
          "name": "stderr",
          "text": [
            "<ipython-input-10-a3f52a9de01b>:1: FutureWarning: The default value of numeric_only in DataFrame.mean is deprecated. In a future version, it will default to False. In addition, specifying 'numeric_only=None' is deprecated. Select only valid columns or specify the value of numeric_only to silence this warning.\n",
            "  medias = datos.mean()\n"
          ]
        }
      ]
    },
    {
      "cell_type": "markdown",
      "source": [
        "Posteriormente, usando la función \"median()\" podemos hacer el cálculo de la media para el rango de cada variable e imprimirlo a forma de tabla."
      ],
      "metadata": {
        "id": "5iiV7ls8BwK8"
      }
    },
    {
      "cell_type": "code",
      "source": [
        "datos['AveragePrice'].median()\n"
      ],
      "metadata": {
        "colab": {
          "base_uri": "https://localhost:8080/"
        },
        "id": "itRl-XeQ8BcL",
        "outputId": "292e6359-199b-4ebc-e9be-846a1de8be8b"
      },
      "execution_count": null,
      "outputs": [
        {
          "output_type": "execute_result",
          "data": {
            "text/plain": [
              "1.37"
            ]
          },
          "metadata": {},
          "execution_count": 6
        }
      ]
    },
    {
      "cell_type": "code",
      "source": [
        "medianas = datos.median()\n",
        "print(medianas)"
      ],
      "metadata": {
        "colab": {
          "base_uri": "https://localhost:8080/"
        },
        "id": "tPsqVMBa7qOD",
        "outputId": "0128742c-29ad-422a-9b93-ca37d77fb307"
      },
      "execution_count": null,
      "outputs": [
        {
          "output_type": "stream",
          "name": "stdout",
          "text": [
            "Unnamed: 0          24.00\n",
            "AveragePrice         1.37\n",
            "Total Volume    107376.76\n",
            "4046              8645.30\n",
            "4225             29061.02\n",
            "4770               184.99\n",
            "Total Bags       39743.83\n",
            "Small Bags       26362.82\n",
            "Large Bags        2647.71\n",
            "XLarge Bags          0.00\n",
            "year              2016.00\n",
            "dtype: float64\n"
          ]
        },
        {
          "output_type": "stream",
          "name": "stderr",
          "text": [
            "<ipython-input-11-bddc711122a7>:1: FutureWarning: The default value of numeric_only in DataFrame.median is deprecated. In a future version, it will default to False. In addition, specifying 'numeric_only=None' is deprecated. Select only valid columns or specify the value of numeric_only to silence this warning.\n",
            "  medianas = datos.median()\n"
          ]
        }
      ]
    },
    {
      "cell_type": "markdown",
      "source": [
        "Finalmente también podemos obtener la desviación estándar de cada rango de datos e imprimirlas en forma de tabla."
      ],
      "metadata": {
        "id": "eRRp3axpCEQS"
      }
    },
    {
      "cell_type": "code",
      "source": [
        "desviaciones_estandar = datos.std()\n",
        "print(desviaciones_estandar)"
      ],
      "metadata": {
        "id": "ozAX40C97wPX",
        "outputId": "d292d11d-88aa-47d4-b575-440b4c870c67",
        "colab": {
          "base_uri": "https://localhost:8080/"
        }
      },
      "execution_count": null,
      "outputs": [
        {
          "output_type": "stream",
          "name": "stdout",
          "text": [
            "Unnamed: 0      1.548104e+01\n",
            "AveragePrice    4.026766e-01\n",
            "Total Volume    3.453545e+06\n",
            "4046            1.264989e+06\n",
            "4225            1.204120e+06\n",
            "4770            1.074641e+05\n",
            "Total Bags      9.862424e+05\n",
            "Small Bags      7.461785e+05\n",
            "Large Bags      2.439660e+05\n",
            "XLarge Bags     1.769289e+04\n",
            "year            9.399385e-01\n",
            "dtype: float64\n"
          ]
        },
        {
          "output_type": "stream",
          "name": "stderr",
          "text": [
            "<ipython-input-12-18ba6c1cee90>:1: FutureWarning: The default value of numeric_only in DataFrame.std is deprecated. In a future version, it will default to False. In addition, specifying 'numeric_only=None' is deprecated. Select only valid columns or specify the value of numeric_only to silence this warning.\n",
            "  desviaciones_estandar = datos.std()\n"
          ]
        }
      ]
    },
    {
      "cell_type": "markdown",
      "source": [
        "# Interpretación de datos\n",
        "\n",
        "Estos datos representan información sobre la venta de aguacates durante un período de tiempo específico.\n",
        "\n",
        "1. **AveragePrice**: La columna \"AveragePrice\" indica el precio promedio de los aguacates. El valor promedio es de aproximadamente 1.41 dólares. El precio mínimo registrado es de 0.44 dólares y el máximo es de 3.25 dólares.\n",
        "\n",
        "2. **Total Volume**: Representa el volumen total de aguacates vendidos. El valor promedio es aproximadamente 850,644 unidades. El volumen mínimo registrado es de 84.56 unidades y el máximo es de alrededor de 62.5 millones de unidades.\n",
        "\n",
        "3. **4046, 4225, 4770**: Estos son los códigos o categorías específicas de aguacates.\n",
        "\n",
        "   - Para el tipo 4046, el promedio de ventas es de aproximadamente 293,008 unidades, con un rango que va desde 0 hasta más de 22 millones de unidades.\n",
        "   - Para el tipo 4225, el promedio de ventas es de aproximadamente 295,155 unidades, con un rango que va desde 0 hasta más de 20 millones de unidades.\n",
        "   - Para el tipo 4770, el promedio de ventas es de aproximadamente 22,840 unidades, con un rango que va desde 0 hasta más de 2.5 millones de unidades.\n",
        "\n",
        "5. **Total Bags, Small Bags, Large Bags, XLarge Bags**: Estas son diferentes categorías de empaques o bolsas en las que se venden los aguacates. El número total de bolsas varía ampliamente, desde 0 hasta más de 19 millones.\n",
        "\n",
        "6. **Year**: Representa el año en que se realizaron las ventas. El promedio es aproximadamente 2016.15, lo que indica que los datos abarcan principalmente los años 2015, 2016 y 2017.\n",
        "\n",
        "7. **Desviación estándar**: A partir de las desviaciones estándar, se puede inferir que hay una alta variabilidad en la cantidad de aguacates vendidos, así como en los diferentes tipos de aguacates y bolsas utilizadas para el empaque. Sin embargo, la variabilidad en los precios promedio es relativamente baja, lo que sugiere cierta estabilidad en este aspecto del mercado.\n",
        "\n",
        "8. **Mediana**: Las medianas proporcionan una medida del valor central de cada variable, lo que significa que representan el punto en el que se encuentra la mitad de los datos. Esto puede ser útil para entender la distribución y la tendencia central de las variables en el conjunto de datos.\n",
        "\n",
        "#**Importancia de esta información**:\n",
        "\n",
        "Esta información es valiosa para diversos actores en la industria de los aguacates y en la cadena de suministro de alimentos en general. Algunas de las posibles aplicaciones y beneficiarios incluyen:\n",
        "\n",
        "1. **Productores y Agricultores**: Les proporciona datos detallados sobre las ventas, lo que les ayuda a planificar su producción para satisfacer la demanda del mercado.\n",
        "\n",
        "2. **Distribuidores y Mayoristas**: Pueden utilizar esta información para gestionar sus inventarios y planificar estrategias de distribución.\n",
        "\n",
        "3. **Minoristas**: Les permite comprender las tendencias de precios y volumen de ventas, lo que les ayuda a establecer precios competitivos y gestionar el inventario en sus tiendas.\n",
        "\n",
        "4. **Analistas de Mercado**: Pueden utilizar estos datos para realizar análisis de tendencias, proyecciones de demanda y estudios de mercado.\n",
        "\n",
        "5. **Consumidores**: Si bien no se proporciona información específica sobre los consumidores, los datos pueden influir indirectamente en los precios que los consumidores pagan por los aguacates.\n",
        "\n",
        "En resumen, estos datos son esenciales para comprender y gestionar el mercado de aguacates, lo que a su vez afecta a agricultores, distribuidores, minoristas y consumidores."
      ],
      "metadata": {
        "id": "5rBMub1OEbZb"
      }
    },
    {
      "cell_type": "markdown",
      "source": [
        "# Conclusión\n",
        "\n",
        "Pandas es una herramienta extremadamente poderosa y versátil para el análisis de datos en formato CSV y otros formatos tabulares.\n",
        "Es ampliamente utilizada en la comunidad de ciencia de datos debido a su flexibilidad y potencia. Permite cargar, manipular, limpiar y analizar conjuntos de datos de una manera eficiente y conveniente.\n",
        "\n",
        "![image.png](data:image/png;base64,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)"
      ],
      "metadata": {
        "id": "jYEVtRPwCLHG"
      }
    }
  ]
}