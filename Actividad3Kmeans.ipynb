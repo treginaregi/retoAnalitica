{
  "nbformat": 4,
  "nbformat_minor": 0,
  "metadata": {
    "colab": {
      "provenance": []
    },
    "kernelspec": {
      "name": "python3",
      "display_name": "Python 3"
    },
    "language_info": {
      "name": "python"
    }
  },
  "cells": [
    {
      "cell_type": "markdown",
      "source": [
        "# **Actividad 3:** Patrones con K-means\n",
        "### Integrantes:\n",
        "\n",
        "*   Tania Regina Ramírez Vázquez - A01654087\n",
        "*   Juan Antonio Mancera Velasco - A01662634\n",
        "*   Owen Rosales Castro - A01660320\n"
      ],
      "metadata": {
        "id": "9ogNtvN0_asX"
      }
    },
    {
      "cell_type": "markdown",
      "source": [
        "## Importación de librerías\n",
        "\n"
      ],
      "metadata": {
        "id": "LmplDs88EBk4"
      }
    },
    {
      "cell_type": "code",
      "execution_count": null,
      "metadata": {
        "id": "n3TPc71H_DUc"
      },
      "outputs": [],
      "source": [
        "import pandas as pd\n",
        "import numpy as np\n",
        "from sklearn.cluster import KMeans"
      ]
    },
    {
      "cell_type": "markdown",
      "source": [
        "# Carga de datos"
      ],
      "metadata": {
        "id": "HGBNRf5DF963"
      }
    },
    {
      "cell_type": "code",
      "source": [
        "datos = pd.read_csv(\"covid19_tweets.csv\")\n",
        "datos"
      ],
      "metadata": {
        "colab": {
          "base_uri": "https://localhost:8080/",
          "height": 860
        },
        "id": "Ac-_jksaES8S",
        "outputId": "c659528c-8c51-4709-fc3b-9ec00a9ba35b"
      },
      "execution_count": null,
      "outputs": [
        {
          "output_type": "execute_result",
          "data": {
            "text/plain": [
              "                      user_name         user_location  \\\n",
              "0                        ᏉᎥ☻լꂅϮ            astroworld   \n",
              "1                 Tom Basile 🇺🇸          New York, NY   \n",
              "2               Time4fisticuffs      Pewee Valley, KY   \n",
              "3                   ethel mertz  Stuck in the Middle    \n",
              "4                      DIPR-J&K     Jammu and Kashmir   \n",
              "...                         ...                   ...   \n",
              "74431             Laura Wolfrom         Lexington, KY   \n",
              "74432  Professor Tonya M. Evans         😷 #stayathome   \n",
              "74433        People's Daily app           北京, 中华人民共和国   \n",
              "74434                     M0ser                   NaN   \n",
              "74435    Your Friend & Sabre ⚔️           Chicago, IL   \n",
              "\n",
              "                                        user_description         user_created  \\\n",
              "0      wednesday addams as a disney princess keepin i...  2017-05-26 05:46:42   \n",
              "1      Husband, Father, Columnist & Commentator. Auth...  2009-04-16 20:06:23   \n",
              "2      #Christian #Catholic #Conservative #Reagan #Re...  2009-02-28 18:57:41   \n",
              "3      #Browns #Indians #ClevelandProud #[]_[] #Cavs ...  2019-03-07 01:45:06   \n",
              "4      🖊️Official Twitter handle of Department of Inf...  2017-02-12 06:45:15   \n",
              "...                                                  ...                  ...   \n",
              "74431            The only things I collect are memories.  2010-09-24 02:01:15   \n",
              "74432  Law Prof @DickinsonLaw & Entrepreneur | Crypto...  2013-05-14 20:15:24   \n",
              "74433  Our mission is to provide news and perspective...  2018-02-04 12:36:42   \n",
              "74434  Reagan conservative and attorney raised in the...  2014-02-18 03:46:28   \n",
              "74435  My spectral decomposition has a significant da...  2016-12-19 19:55:00   \n",
              "\n",
              "       user_followers  user_friends  user_favourites  user_verified  \\\n",
              "0                 624           950            18775          False   \n",
              "1                2253          1677               24           True   \n",
              "2                9275          9525             7254          False   \n",
              "3                 197           987             1488          False   \n",
              "4              101009           168              101          False   \n",
              "...               ...           ...              ...            ...   \n",
              "74431              85           586             1902          False   \n",
              "74432            4289          1066            53569          False   \n",
              "74433            1413           102               16          False   \n",
              "74434            2554          1733           129104          False   \n",
              "74435             310          1748            60133          False   \n",
              "\n",
              "                      date                                               text  \\\n",
              "0      2020-07-25 12:27:21  If I smelled the scent of hand sanitizers toda...   \n",
              "1      2020-07-25 12:27:17  Hey @Yankees @YankeesPR and @MLB - wouldn't it...   \n",
              "2      2020-07-25 12:27:14  @diane3443 @wdunlap @realDonaldTrump Trump nev...   \n",
              "3      2020-07-25 12:27:10  @brookbanktv The one gift #COVID19 has give me...   \n",
              "4      2020-07-25 12:27:08  25 July : Media Bulletin on Novel #CoronaVirus...   \n",
              "...                    ...                                                ...   \n",
              "74431  2020-08-04 03:13:29  So far this summer I have filled up my lawn mo...   \n",
              "74432  2020-08-04 03:13:26  ICYMI: REPLAY: #TechIntersect🧩 #16: Isaiah \"@B...   \n",
              "74433  2020-08-04 03:13:22  Community workers in Tianshan District of Urum...   \n",
              "74434  2020-08-04 03:13:19  If only we had a responsible media to warn us ...   \n",
              "74435  2020-08-04 03:13:15  MAGA: #COVID19 is just a cold &amp; it'd be go...   \n",
              "\n",
              "                                      hashtags               source  \\\n",
              "0                                          NaN   Twitter for iPhone   \n",
              "1                                          NaN  Twitter for Android   \n",
              "2                                  ['COVID19']  Twitter for Android   \n",
              "3                                  ['COVID19']   Twitter for iPhone   \n",
              "4            ['CoronaVirusUpdates', 'COVID19']  Twitter for Android   \n",
              "...                                        ...                  ...   \n",
              "74431            ['COVID19', 'QuarantineLife']   Twitter for iPhone   \n",
              "74432  ['TechIntersect', 'Bitcoin', 'COVID19']      Twitter Web App   \n",
              "74433                    ['China', 'Xinjiang']      Twitter Web App   \n",
              "74434                              ['COVID19']   Twitter for iPhone   \n",
              "74435       ['COVID19', 'Hydroxycholoroquine']  Twitter for Android   \n",
              "\n",
              "       is_retweet  \n",
              "0           False  \n",
              "1           False  \n",
              "2           False  \n",
              "3           False  \n",
              "4           False  \n",
              "...           ...  \n",
              "74431       False  \n",
              "74432       False  \n",
              "74433       False  \n",
              "74434       False  \n",
              "74435       False  \n",
              "\n",
              "[74436 rows x 13 columns]"
            ],
            "text/html": [
              "\n",
              "  <div id=\"df-6c9cccd8-e2d8-4aed-b452-51c2ce734aee\" class=\"colab-df-container\">\n",
              "    <div>\n",
              "<style scoped>\n",
              "    .dataframe tbody tr th:only-of-type {\n",
              "        vertical-align: middle;\n",
              "    }\n",
              "\n",
              "    .dataframe tbody tr th {\n",
              "        vertical-align: top;\n",
              "    }\n",
              "\n",
              "    .dataframe thead th {\n",
              "        text-align: right;\n",
              "    }\n",
              "</style>\n",
              "<table border=\"1\" class=\"dataframe\">\n",
              "  <thead>\n",
              "    <tr style=\"text-align: right;\">\n",
              "      <th></th>\n",
              "      <th>user_name</th>\n",
              "      <th>user_location</th>\n",
              "      <th>user_description</th>\n",
              "      <th>user_created</th>\n",
              "      <th>user_followers</th>\n",
              "      <th>user_friends</th>\n",
              "      <th>user_favourites</th>\n",
              "      <th>user_verified</th>\n",
              "      <th>date</th>\n",
              "      <th>text</th>\n",
              "      <th>hashtags</th>\n",
              "      <th>source</th>\n",
              "      <th>is_retweet</th>\n",
              "    </tr>\n",
              "  </thead>\n",
              "  <tbody>\n",
              "    <tr>\n",
              "      <th>0</th>\n",
              "      <td>ᏉᎥ☻լꂅϮ</td>\n",
              "      <td>astroworld</td>\n",
              "      <td>wednesday addams as a disney princess keepin i...</td>\n",
              "      <td>2017-05-26 05:46:42</td>\n",
              "      <td>624</td>\n",
              "      <td>950</td>\n",
              "      <td>18775</td>\n",
              "      <td>False</td>\n",
              "      <td>2020-07-25 12:27:21</td>\n",
              "      <td>If I smelled the scent of hand sanitizers toda...</td>\n",
              "      <td>NaN</td>\n",
              "      <td>Twitter for iPhone</td>\n",
              "      <td>False</td>\n",
              "    </tr>\n",
              "    <tr>\n",
              "      <th>1</th>\n",
              "      <td>Tom Basile 🇺🇸</td>\n",
              "      <td>New York, NY</td>\n",
              "      <td>Husband, Father, Columnist &amp; Commentator. Auth...</td>\n",
              "      <td>2009-04-16 20:06:23</td>\n",
              "      <td>2253</td>\n",
              "      <td>1677</td>\n",
              "      <td>24</td>\n",
              "      <td>True</td>\n",
              "      <td>2020-07-25 12:27:17</td>\n",
              "      <td>Hey @Yankees @YankeesPR and @MLB - wouldn't it...</td>\n",
              "      <td>NaN</td>\n",
              "      <td>Twitter for Android</td>\n",
              "      <td>False</td>\n",
              "    </tr>\n",
              "    <tr>\n",
              "      <th>2</th>\n",
              "      <td>Time4fisticuffs</td>\n",
              "      <td>Pewee Valley, KY</td>\n",
              "      <td>#Christian #Catholic #Conservative #Reagan #Re...</td>\n",
              "      <td>2009-02-28 18:57:41</td>\n",
              "      <td>9275</td>\n",
              "      <td>9525</td>\n",
              "      <td>7254</td>\n",
              "      <td>False</td>\n",
              "      <td>2020-07-25 12:27:14</td>\n",
              "      <td>@diane3443 @wdunlap @realDonaldTrump Trump nev...</td>\n",
              "      <td>['COVID19']</td>\n",
              "      <td>Twitter for Android</td>\n",
              "      <td>False</td>\n",
              "    </tr>\n",
              "    <tr>\n",
              "      <th>3</th>\n",
              "      <td>ethel mertz</td>\n",
              "      <td>Stuck in the Middle</td>\n",
              "      <td>#Browns #Indians #ClevelandProud #[]_[] #Cavs ...</td>\n",
              "      <td>2019-03-07 01:45:06</td>\n",
              "      <td>197</td>\n",
              "      <td>987</td>\n",
              "      <td>1488</td>\n",
              "      <td>False</td>\n",
              "      <td>2020-07-25 12:27:10</td>\n",
              "      <td>@brookbanktv The one gift #COVID19 has give me...</td>\n",
              "      <td>['COVID19']</td>\n",
              "      <td>Twitter for iPhone</td>\n",
              "      <td>False</td>\n",
              "    </tr>\n",
              "    <tr>\n",
              "      <th>4</th>\n",
              "      <td>DIPR-J&amp;K</td>\n",
              "      <td>Jammu and Kashmir</td>\n",
              "      <td>🖊️Official Twitter handle of Department of Inf...</td>\n",
              "      <td>2017-02-12 06:45:15</td>\n",
              "      <td>101009</td>\n",
              "      <td>168</td>\n",
              "      <td>101</td>\n",
              "      <td>False</td>\n",
              "      <td>2020-07-25 12:27:08</td>\n",
              "      <td>25 July : Media Bulletin on Novel #CoronaVirus...</td>\n",
              "      <td>['CoronaVirusUpdates', 'COVID19']</td>\n",
              "      <td>Twitter for Android</td>\n",
              "      <td>False</td>\n",
              "    </tr>\n",
              "    <tr>\n",
              "      <th>...</th>\n",
              "      <td>...</td>\n",
              "      <td>...</td>\n",
              "      <td>...</td>\n",
              "      <td>...</td>\n",
              "      <td>...</td>\n",
              "      <td>...</td>\n",
              "      <td>...</td>\n",
              "      <td>...</td>\n",
              "      <td>...</td>\n",
              "      <td>...</td>\n",
              "      <td>...</td>\n",
              "      <td>...</td>\n",
              "      <td>...</td>\n",
              "    </tr>\n",
              "    <tr>\n",
              "      <th>74431</th>\n",
              "      <td>Laura Wolfrom</td>\n",
              "      <td>Lexington, KY</td>\n",
              "      <td>The only things I collect are memories.</td>\n",
              "      <td>2010-09-24 02:01:15</td>\n",
              "      <td>85</td>\n",
              "      <td>586</td>\n",
              "      <td>1902</td>\n",
              "      <td>False</td>\n",
              "      <td>2020-08-04 03:13:29</td>\n",
              "      <td>So far this summer I have filled up my lawn mo...</td>\n",
              "      <td>['COVID19', 'QuarantineLife']</td>\n",
              "      <td>Twitter for iPhone</td>\n",
              "      <td>False</td>\n",
              "    </tr>\n",
              "    <tr>\n",
              "      <th>74432</th>\n",
              "      <td>Professor Tonya M. Evans</td>\n",
              "      <td>😷 #stayathome</td>\n",
              "      <td>Law Prof @DickinsonLaw &amp; Entrepreneur | Crypto...</td>\n",
              "      <td>2013-05-14 20:15:24</td>\n",
              "      <td>4289</td>\n",
              "      <td>1066</td>\n",
              "      <td>53569</td>\n",
              "      <td>False</td>\n",
              "      <td>2020-08-04 03:13:26</td>\n",
              "      <td>ICYMI: REPLAY: #TechIntersect🧩 #16: Isaiah \"@B...</td>\n",
              "      <td>['TechIntersect', 'Bitcoin', 'COVID19']</td>\n",
              "      <td>Twitter Web App</td>\n",
              "      <td>False</td>\n",
              "    </tr>\n",
              "    <tr>\n",
              "      <th>74433</th>\n",
              "      <td>People's Daily app</td>\n",
              "      <td>北京, 中华人民共和国</td>\n",
              "      <td>Our mission is to provide news and perspective...</td>\n",
              "      <td>2018-02-04 12:36:42</td>\n",
              "      <td>1413</td>\n",
              "      <td>102</td>\n",
              "      <td>16</td>\n",
              "      <td>False</td>\n",
              "      <td>2020-08-04 03:13:22</td>\n",
              "      <td>Community workers in Tianshan District of Urum...</td>\n",
              "      <td>['China', 'Xinjiang']</td>\n",
              "      <td>Twitter Web App</td>\n",
              "      <td>False</td>\n",
              "    </tr>\n",
              "    <tr>\n",
              "      <th>74434</th>\n",
              "      <td>M0ser</td>\n",
              "      <td>NaN</td>\n",
              "      <td>Reagan conservative and attorney raised in the...</td>\n",
              "      <td>2014-02-18 03:46:28</td>\n",
              "      <td>2554</td>\n",
              "      <td>1733</td>\n",
              "      <td>129104</td>\n",
              "      <td>False</td>\n",
              "      <td>2020-08-04 03:13:19</td>\n",
              "      <td>If only we had a responsible media to warn us ...</td>\n",
              "      <td>['COVID19']</td>\n",
              "      <td>Twitter for iPhone</td>\n",
              "      <td>False</td>\n",
              "    </tr>\n",
              "    <tr>\n",
              "      <th>74435</th>\n",
              "      <td>Your Friend &amp; Sabre ⚔️</td>\n",
              "      <td>Chicago, IL</td>\n",
              "      <td>My spectral decomposition has a significant da...</td>\n",
              "      <td>2016-12-19 19:55:00</td>\n",
              "      <td>310</td>\n",
              "      <td>1748</td>\n",
              "      <td>60133</td>\n",
              "      <td>False</td>\n",
              "      <td>2020-08-04 03:13:15</td>\n",
              "      <td>MAGA: #COVID19 is just a cold &amp;amp; it'd be go...</td>\n",
              "      <td>['COVID19', 'Hydroxycholoroquine']</td>\n",
              "      <td>Twitter for Android</td>\n",
              "      <td>False</td>\n",
              "    </tr>\n",
              "  </tbody>\n",
              "</table>\n",
              "<p>74436 rows × 13 columns</p>\n",
              "</div>\n",
              "    <div class=\"colab-df-buttons\">\n",
              "\n",
              "  <div class=\"colab-df-container\">\n",
              "    <button class=\"colab-df-convert\" onclick=\"convertToInteractive('df-6c9cccd8-e2d8-4aed-b452-51c2ce734aee')\"\n",
              "            title=\"Convert this dataframe to an interactive table.\"\n",
              "            style=\"display:none;\">\n",
              "\n",
              "  <svg xmlns=\"http://www.w3.org/2000/svg\" height=\"24px\" viewBox=\"0 -960 960 960\">\n",
              "    <path d=\"M120-120v-720h720v720H120Zm60-500h600v-160H180v160Zm220 220h160v-160H400v160Zm0 220h160v-160H400v160ZM180-400h160v-160H180v160Zm440 0h160v-160H620v160ZM180-180h160v-160H180v160Zm440 0h160v-160H620v160Z\"/>\n",
              "  </svg>\n",
              "    </button>\n",
              "\n",
              "  <style>\n",
              "    .colab-df-container {\n",
              "      display:flex;\n",
              "      gap: 12px;\n",
              "    }\n",
              "\n",
              "    .colab-df-convert {\n",
              "      background-color: #E8F0FE;\n",
              "      border: none;\n",
              "      border-radius: 50%;\n",
              "      cursor: pointer;\n",
              "      display: none;\n",
              "      fill: #1967D2;\n",
              "      height: 32px;\n",
              "      padding: 0 0 0 0;\n",
              "      width: 32px;\n",
              "    }\n",
              "\n",
              "    .colab-df-convert:hover {\n",
              "      background-color: #E2EBFA;\n",
              "      box-shadow: 0px 1px 2px rgba(60, 64, 67, 0.3), 0px 1px 3px 1px rgba(60, 64, 67, 0.15);\n",
              "      fill: #174EA6;\n",
              "    }\n",
              "\n",
              "    .colab-df-buttons div {\n",
              "      margin-bottom: 4px;\n",
              "    }\n",
              "\n",
              "    [theme=dark] .colab-df-convert {\n",
              "      background-color: #3B4455;\n",
              "      fill: #D2E3FC;\n",
              "    }\n",
              "\n",
              "    [theme=dark] .colab-df-convert:hover {\n",
              "      background-color: #434B5C;\n",
              "      box-shadow: 0px 1px 3px 1px rgba(0, 0, 0, 0.15);\n",
              "      filter: drop-shadow(0px 1px 2px rgba(0, 0, 0, 0.3));\n",
              "      fill: #FFFFFF;\n",
              "    }\n",
              "  </style>\n",
              "\n",
              "    <script>\n",
              "      const buttonEl =\n",
              "        document.querySelector('#df-6c9cccd8-e2d8-4aed-b452-51c2ce734aee button.colab-df-convert');\n",
              "      buttonEl.style.display =\n",
              "        google.colab.kernel.accessAllowed ? 'block' : 'none';\n",
              "\n",
              "      async function convertToInteractive(key) {\n",
              "        const element = document.querySelector('#df-6c9cccd8-e2d8-4aed-b452-51c2ce734aee');\n",
              "        const dataTable =\n",
              "          await google.colab.kernel.invokeFunction('convertToInteractive',\n",
              "                                                    [key], {});\n",
              "        if (!dataTable) return;\n",
              "\n",
              "        const docLinkHtml = 'Like what you see? Visit the ' +\n",
              "          '<a target=\"_blank\" href=https://colab.research.google.com/notebooks/data_table.ipynb>data table notebook</a>'\n",
              "          + ' to learn more about interactive tables.';\n",
              "        element.innerHTML = '';\n",
              "        dataTable['output_type'] = 'display_data';\n",
              "        await google.colab.output.renderOutput(dataTable, element);\n",
              "        const docLink = document.createElement('div');\n",
              "        docLink.innerHTML = docLinkHtml;\n",
              "        element.appendChild(docLink);\n",
              "      }\n",
              "    </script>\n",
              "  </div>\n",
              "\n",
              "\n",
              "<div id=\"df-e63ac74f-42aa-468c-b676-ad1049286ba9\">\n",
              "  <button class=\"colab-df-quickchart\" onclick=\"quickchart('df-e63ac74f-42aa-468c-b676-ad1049286ba9')\"\n",
              "            title=\"Suggest charts.\"\n",
              "            style=\"display:none;\">\n",
              "\n",
              "<svg xmlns=\"http://www.w3.org/2000/svg\" height=\"24px\"viewBox=\"0 0 24 24\"\n",
              "     width=\"24px\">\n",
              "    <g>\n",
              "        <path d=\"M19 3H5c-1.1 0-2 .9-2 2v14c0 1.1.9 2 2 2h14c1.1 0 2-.9 2-2V5c0-1.1-.9-2-2-2zM9 17H7v-7h2v7zm4 0h-2V7h2v10zm4 0h-2v-4h2v4z\"/>\n",
              "    </g>\n",
              "</svg>\n",
              "  </button>\n",
              "\n",
              "<style>\n",
              "  .colab-df-quickchart {\n",
              "      --bg-color: #E8F0FE;\n",
              "      --fill-color: #1967D2;\n",
              "      --hover-bg-color: #E2EBFA;\n",
              "      --hover-fill-color: #174EA6;\n",
              "      --disabled-fill-color: #AAA;\n",
              "      --disabled-bg-color: #DDD;\n",
              "  }\n",
              "\n",
              "  [theme=dark] .colab-df-quickchart {\n",
              "      --bg-color: #3B4455;\n",
              "      --fill-color: #D2E3FC;\n",
              "      --hover-bg-color: #434B5C;\n",
              "      --hover-fill-color: #FFFFFF;\n",
              "      --disabled-bg-color: #3B4455;\n",
              "      --disabled-fill-color: #666;\n",
              "  }\n",
              "\n",
              "  .colab-df-quickchart {\n",
              "    background-color: var(--bg-color);\n",
              "    border: none;\n",
              "    border-radius: 50%;\n",
              "    cursor: pointer;\n",
              "    display: none;\n",
              "    fill: var(--fill-color);\n",
              "    height: 32px;\n",
              "    padding: 0;\n",
              "    width: 32px;\n",
              "  }\n",
              "\n",
              "  .colab-df-quickchart:hover {\n",
              "    background-color: var(--hover-bg-color);\n",
              "    box-shadow: 0 1px 2px rgba(60, 64, 67, 0.3), 0 1px 3px 1px rgba(60, 64, 67, 0.15);\n",
              "    fill: var(--button-hover-fill-color);\n",
              "  }\n",
              "\n",
              "  .colab-df-quickchart-complete:disabled,\n",
              "  .colab-df-quickchart-complete:disabled:hover {\n",
              "    background-color: var(--disabled-bg-color);\n",
              "    fill: var(--disabled-fill-color);\n",
              "    box-shadow: none;\n",
              "  }\n",
              "\n",
              "  .colab-df-spinner {\n",
              "    border: 2px solid var(--fill-color);\n",
              "    border-color: transparent;\n",
              "    border-bottom-color: var(--fill-color);\n",
              "    animation:\n",
              "      spin 1s steps(1) infinite;\n",
              "  }\n",
              "\n",
              "  @keyframes spin {\n",
              "    0% {\n",
              "      border-color: transparent;\n",
              "      border-bottom-color: var(--fill-color);\n",
              "      border-left-color: var(--fill-color);\n",
              "    }\n",
              "    20% {\n",
              "      border-color: transparent;\n",
              "      border-left-color: var(--fill-color);\n",
              "      border-top-color: var(--fill-color);\n",
              "    }\n",
              "    30% {\n",
              "      border-color: transparent;\n",
              "      border-left-color: var(--fill-color);\n",
              "      border-top-color: var(--fill-color);\n",
              "      border-right-color: var(--fill-color);\n",
              "    }\n",
              "    40% {\n",
              "      border-color: transparent;\n",
              "      border-right-color: var(--fill-color);\n",
              "      border-top-color: var(--fill-color);\n",
              "    }\n",
              "    60% {\n",
              "      border-color: transparent;\n",
              "      border-right-color: var(--fill-color);\n",
              "    }\n",
              "    80% {\n",
              "      border-color: transparent;\n",
              "      border-right-color: var(--fill-color);\n",
              "      border-bottom-color: var(--fill-color);\n",
              "    }\n",
              "    90% {\n",
              "      border-color: transparent;\n",
              "      border-bottom-color: var(--fill-color);\n",
              "    }\n",
              "  }\n",
              "</style>\n",
              "\n",
              "  <script>\n",
              "    async function quickchart(key) {\n",
              "      const quickchartButtonEl =\n",
              "        document.querySelector('#' + key + ' button');\n",
              "      quickchartButtonEl.disabled = true;  // To prevent multiple clicks.\n",
              "      quickchartButtonEl.classList.add('colab-df-spinner');\n",
              "      try {\n",
              "        const charts = await google.colab.kernel.invokeFunction(\n",
              "            'suggestCharts', [key], {});\n",
              "      } catch (error) {\n",
              "        console.error('Error during call to suggestCharts:', error);\n",
              "      }\n",
              "      quickchartButtonEl.classList.remove('colab-df-spinner');\n",
              "      quickchartButtonEl.classList.add('colab-df-quickchart-complete');\n",
              "    }\n",
              "    (() => {\n",
              "      let quickchartButtonEl =\n",
              "        document.querySelector('#df-e63ac74f-42aa-468c-b676-ad1049286ba9 button');\n",
              "      quickchartButtonEl.style.display =\n",
              "        google.colab.kernel.accessAllowed ? 'block' : 'none';\n",
              "    })();\n",
              "  </script>\n",
              "</div>\n",
              "    </div>\n",
              "  </div>\n"
            ]
          },
          "metadata": {},
          "execution_count": 2
        }
      ]
    },
    {
      "cell_type": "markdown",
      "source": [
        "#Selección de variables\n",
        "\n",
        "> Se han dejado fuera ciertas variables que no aportan información para el agrupamiento. Ya sea porque requieren un análisis más profundo como el caso del texto, o porque no cambian su valor en las tuplas como Is_retweeted, que siempre es falso. Se realiza el algoritmo de clustering solo para user_followers y user_friends.\n",
        "\n",
        "\n",
        "\n",
        "\n",
        "\n",
        "\n"
      ],
      "metadata": {
        "id": "O9dfvzdeGHbc"
      }
    },
    {
      "cell_type": "code",
      "source": [
        "variables = datos.columns\n",
        "print(variables)"
      ],
      "metadata": {
        "id": "v9-najrfFfSa",
        "outputId": "5c164bdb-09f9-43d1-c380-14b270a90d66",
        "colab": {
          "base_uri": "https://localhost:8080/"
        }
      },
      "execution_count": null,
      "outputs": [
        {
          "output_type": "stream",
          "name": "stdout",
          "text": [
            "Index(['user_name', 'user_location', 'user_description', 'user_created',\n",
            "       'user_followers', 'user_friends', 'user_favourites', 'user_verified',\n",
            "       'date', 'text', 'hashtags', 'source', 'is_retweet'],\n",
            "      dtype='object')\n"
          ]
        }
      ]
    },
    {
      "cell_type": "markdown",
      "source": [
        "Las variables a utiilizar son las siguientes:"
      ],
      "metadata": {
        "id": "Jh9MQAwiKsyg"
      }
    },
    {
      "cell_type": "code",
      "source": [
        "datos = datos[['user_followers', 'user_friends']]\n",
        "datos"
      ],
      "metadata": {
        "colab": {
          "base_uri": "https://localhost:8080/",
          "height": 424
        },
        "id": "kCun7hIYIQjA",
        "outputId": "3272f3bf-bb33-42e2-f430-de68921673d5"
      },
      "execution_count": null,
      "outputs": [
        {
          "output_type": "execute_result",
          "data": {
            "text/plain": [
              "       user_followers  user_friends\n",
              "0                 624           950\n",
              "1                2253          1677\n",
              "2                9275          9525\n",
              "3                 197           987\n",
              "4              101009           168\n",
              "...               ...           ...\n",
              "74431              85           586\n",
              "74432            4289          1066\n",
              "74433            1413           102\n",
              "74434            2554          1733\n",
              "74435             310          1748\n",
              "\n",
              "[74436 rows x 2 columns]"
            ],
            "text/html": [
              "\n",
              "  <div id=\"df-4ccd7e25-fb44-41c2-a234-f70ed38a5679\" class=\"colab-df-container\">\n",
              "    <div>\n",
              "<style scoped>\n",
              "    .dataframe tbody tr th:only-of-type {\n",
              "        vertical-align: middle;\n",
              "    }\n",
              "\n",
              "    .dataframe tbody tr th {\n",
              "        vertical-align: top;\n",
              "    }\n",
              "\n",
              "    .dataframe thead th {\n",
              "        text-align: right;\n",
              "    }\n",
              "</style>\n",
              "<table border=\"1\" class=\"dataframe\">\n",
              "  <thead>\n",
              "    <tr style=\"text-align: right;\">\n",
              "      <th></th>\n",
              "      <th>user_followers</th>\n",
              "      <th>user_friends</th>\n",
              "    </tr>\n",
              "  </thead>\n",
              "  <tbody>\n",
              "    <tr>\n",
              "      <th>0</th>\n",
              "      <td>624</td>\n",
              "      <td>950</td>\n",
              "    </tr>\n",
              "    <tr>\n",
              "      <th>1</th>\n",
              "      <td>2253</td>\n",
              "      <td>1677</td>\n",
              "    </tr>\n",
              "    <tr>\n",
              "      <th>2</th>\n",
              "      <td>9275</td>\n",
              "      <td>9525</td>\n",
              "    </tr>\n",
              "    <tr>\n",
              "      <th>3</th>\n",
              "      <td>197</td>\n",
              "      <td>987</td>\n",
              "    </tr>\n",
              "    <tr>\n",
              "      <th>4</th>\n",
              "      <td>101009</td>\n",
              "      <td>168</td>\n",
              "    </tr>\n",
              "    <tr>\n",
              "      <th>...</th>\n",
              "      <td>...</td>\n",
              "      <td>...</td>\n",
              "    </tr>\n",
              "    <tr>\n",
              "      <th>74431</th>\n",
              "      <td>85</td>\n",
              "      <td>586</td>\n",
              "    </tr>\n",
              "    <tr>\n",
              "      <th>74432</th>\n",
              "      <td>4289</td>\n",
              "      <td>1066</td>\n",
              "    </tr>\n",
              "    <tr>\n",
              "      <th>74433</th>\n",
              "      <td>1413</td>\n",
              "      <td>102</td>\n",
              "    </tr>\n",
              "    <tr>\n",
              "      <th>74434</th>\n",
              "      <td>2554</td>\n",
              "      <td>1733</td>\n",
              "    </tr>\n",
              "    <tr>\n",
              "      <th>74435</th>\n",
              "      <td>310</td>\n",
              "      <td>1748</td>\n",
              "    </tr>\n",
              "  </tbody>\n",
              "</table>\n",
              "<p>74436 rows × 2 columns</p>\n",
              "</div>\n",
              "    <div class=\"colab-df-buttons\">\n",
              "\n",
              "  <div class=\"colab-df-container\">\n",
              "    <button class=\"colab-df-convert\" onclick=\"convertToInteractive('df-4ccd7e25-fb44-41c2-a234-f70ed38a5679')\"\n",
              "            title=\"Convert this dataframe to an interactive table.\"\n",
              "            style=\"display:none;\">\n",
              "\n",
              "  <svg xmlns=\"http://www.w3.org/2000/svg\" height=\"24px\" viewBox=\"0 -960 960 960\">\n",
              "    <path d=\"M120-120v-720h720v720H120Zm60-500h600v-160H180v160Zm220 220h160v-160H400v160Zm0 220h160v-160H400v160ZM180-400h160v-160H180v160Zm440 0h160v-160H620v160ZM180-180h160v-160H180v160Zm440 0h160v-160H620v160Z\"/>\n",
              "  </svg>\n",
              "    </button>\n",
              "\n",
              "  <style>\n",
              "    .colab-df-container {\n",
              "      display:flex;\n",
              "      gap: 12px;\n",
              "    }\n",
              "\n",
              "    .colab-df-convert {\n",
              "      background-color: #E8F0FE;\n",
              "      border: none;\n",
              "      border-radius: 50%;\n",
              "      cursor: pointer;\n",
              "      display: none;\n",
              "      fill: #1967D2;\n",
              "      height: 32px;\n",
              "      padding: 0 0 0 0;\n",
              "      width: 32px;\n",
              "    }\n",
              "\n",
              "    .colab-df-convert:hover {\n",
              "      background-color: #E2EBFA;\n",
              "      box-shadow: 0px 1px 2px rgba(60, 64, 67, 0.3), 0px 1px 3px 1px rgba(60, 64, 67, 0.15);\n",
              "      fill: #174EA6;\n",
              "    }\n",
              "\n",
              "    .colab-df-buttons div {\n",
              "      margin-bottom: 4px;\n",
              "    }\n",
              "\n",
              "    [theme=dark] .colab-df-convert {\n",
              "      background-color: #3B4455;\n",
              "      fill: #D2E3FC;\n",
              "    }\n",
              "\n",
              "    [theme=dark] .colab-df-convert:hover {\n",
              "      background-color: #434B5C;\n",
              "      box-shadow: 0px 1px 3px 1px rgba(0, 0, 0, 0.15);\n",
              "      filter: drop-shadow(0px 1px 2px rgba(0, 0, 0, 0.3));\n",
              "      fill: #FFFFFF;\n",
              "    }\n",
              "  </style>\n",
              "\n",
              "    <script>\n",
              "      const buttonEl =\n",
              "        document.querySelector('#df-4ccd7e25-fb44-41c2-a234-f70ed38a5679 button.colab-df-convert');\n",
              "      buttonEl.style.display =\n",
              "        google.colab.kernel.accessAllowed ? 'block' : 'none';\n",
              "\n",
              "      async function convertToInteractive(key) {\n",
              "        const element = document.querySelector('#df-4ccd7e25-fb44-41c2-a234-f70ed38a5679');\n",
              "        const dataTable =\n",
              "          await google.colab.kernel.invokeFunction('convertToInteractive',\n",
              "                                                    [key], {});\n",
              "        if (!dataTable) return;\n",
              "\n",
              "        const docLinkHtml = 'Like what you see? Visit the ' +\n",
              "          '<a target=\"_blank\" href=https://colab.research.google.com/notebooks/data_table.ipynb>data table notebook</a>'\n",
              "          + ' to learn more about interactive tables.';\n",
              "        element.innerHTML = '';\n",
              "        dataTable['output_type'] = 'display_data';\n",
              "        await google.colab.output.renderOutput(dataTable, element);\n",
              "        const docLink = document.createElement('div');\n",
              "        docLink.innerHTML = docLinkHtml;\n",
              "        element.appendChild(docLink);\n",
              "      }\n",
              "    </script>\n",
              "  </div>\n",
              "\n",
              "\n",
              "<div id=\"df-12c77054-f5a3-4f17-80e4-cf8b3d4537d1\">\n",
              "  <button class=\"colab-df-quickchart\" onclick=\"quickchart('df-12c77054-f5a3-4f17-80e4-cf8b3d4537d1')\"\n",
              "            title=\"Suggest charts.\"\n",
              "            style=\"display:none;\">\n",
              "\n",
              "<svg xmlns=\"http://www.w3.org/2000/svg\" height=\"24px\"viewBox=\"0 0 24 24\"\n",
              "     width=\"24px\">\n",
              "    <g>\n",
              "        <path d=\"M19 3H5c-1.1 0-2 .9-2 2v14c0 1.1.9 2 2 2h14c1.1 0 2-.9 2-2V5c0-1.1-.9-2-2-2zM9 17H7v-7h2v7zm4 0h-2V7h2v10zm4 0h-2v-4h2v4z\"/>\n",
              "    </g>\n",
              "</svg>\n",
              "  </button>\n",
              "\n",
              "<style>\n",
              "  .colab-df-quickchart {\n",
              "      --bg-color: #E8F0FE;\n",
              "      --fill-color: #1967D2;\n",
              "      --hover-bg-color: #E2EBFA;\n",
              "      --hover-fill-color: #174EA6;\n",
              "      --disabled-fill-color: #AAA;\n",
              "      --disabled-bg-color: #DDD;\n",
              "  }\n",
              "\n",
              "  [theme=dark] .colab-df-quickchart {\n",
              "      --bg-color: #3B4455;\n",
              "      --fill-color: #D2E3FC;\n",
              "      --hover-bg-color: #434B5C;\n",
              "      --hover-fill-color: #FFFFFF;\n",
              "      --disabled-bg-color: #3B4455;\n",
              "      --disabled-fill-color: #666;\n",
              "  }\n",
              "\n",
              "  .colab-df-quickchart {\n",
              "    background-color: var(--bg-color);\n",
              "    border: none;\n",
              "    border-radius: 50%;\n",
              "    cursor: pointer;\n",
              "    display: none;\n",
              "    fill: var(--fill-color);\n",
              "    height: 32px;\n",
              "    padding: 0;\n",
              "    width: 32px;\n",
              "  }\n",
              "\n",
              "  .colab-df-quickchart:hover {\n",
              "    background-color: var(--hover-bg-color);\n",
              "    box-shadow: 0 1px 2px rgba(60, 64, 67, 0.3), 0 1px 3px 1px rgba(60, 64, 67, 0.15);\n",
              "    fill: var(--button-hover-fill-color);\n",
              "  }\n",
              "\n",
              "  .colab-df-quickchart-complete:disabled,\n",
              "  .colab-df-quickchart-complete:disabled:hover {\n",
              "    background-color: var(--disabled-bg-color);\n",
              "    fill: var(--disabled-fill-color);\n",
              "    box-shadow: none;\n",
              "  }\n",
              "\n",
              "  .colab-df-spinner {\n",
              "    border: 2px solid var(--fill-color);\n",
              "    border-color: transparent;\n",
              "    border-bottom-color: var(--fill-color);\n",
              "    animation:\n",
              "      spin 1s steps(1) infinite;\n",
              "  }\n",
              "\n",
              "  @keyframes spin {\n",
              "    0% {\n",
              "      border-color: transparent;\n",
              "      border-bottom-color: var(--fill-color);\n",
              "      border-left-color: var(--fill-color);\n",
              "    }\n",
              "    20% {\n",
              "      border-color: transparent;\n",
              "      border-left-color: var(--fill-color);\n",
              "      border-top-color: var(--fill-color);\n",
              "    }\n",
              "    30% {\n",
              "      border-color: transparent;\n",
              "      border-left-color: var(--fill-color);\n",
              "      border-top-color: var(--fill-color);\n",
              "      border-right-color: var(--fill-color);\n",
              "    }\n",
              "    40% {\n",
              "      border-color: transparent;\n",
              "      border-right-color: var(--fill-color);\n",
              "      border-top-color: var(--fill-color);\n",
              "    }\n",
              "    60% {\n",
              "      border-color: transparent;\n",
              "      border-right-color: var(--fill-color);\n",
              "    }\n",
              "    80% {\n",
              "      border-color: transparent;\n",
              "      border-right-color: var(--fill-color);\n",
              "      border-bottom-color: var(--fill-color);\n",
              "    }\n",
              "    90% {\n",
              "      border-color: transparent;\n",
              "      border-bottom-color: var(--fill-color);\n",
              "    }\n",
              "  }\n",
              "</style>\n",
              "\n",
              "  <script>\n",
              "    async function quickchart(key) {\n",
              "      const quickchartButtonEl =\n",
              "        document.querySelector('#' + key + ' button');\n",
              "      quickchartButtonEl.disabled = true;  // To prevent multiple clicks.\n",
              "      quickchartButtonEl.classList.add('colab-df-spinner');\n",
              "      try {\n",
              "        const charts = await google.colab.kernel.invokeFunction(\n",
              "            'suggestCharts', [key], {});\n",
              "      } catch (error) {\n",
              "        console.error('Error during call to suggestCharts:', error);\n",
              "      }\n",
              "      quickchartButtonEl.classList.remove('colab-df-spinner');\n",
              "      quickchartButtonEl.classList.add('colab-df-quickchart-complete');\n",
              "    }\n",
              "    (() => {\n",
              "      let quickchartButtonEl =\n",
              "        document.querySelector('#df-12c77054-f5a3-4f17-80e4-cf8b3d4537d1 button');\n",
              "      quickchartButtonEl.style.display =\n",
              "        google.colab.kernel.accessAllowed ? 'block' : 'none';\n",
              "    })();\n",
              "  </script>\n",
              "</div>\n",
              "    </div>\n",
              "  </div>\n"
            ]
          },
          "metadata": {},
          "execution_count": 4
        }
      ]
    },
    {
      "cell_type": "markdown",
      "source": [
        "## Análisis de la popularidad de los usuarios"
      ],
      "metadata": {
        "id": "z_gXl_LdIW4T"
      }
    },
    {
      "cell_type": "markdown",
      "source": [
        "Media de seguidores: En promedio, las personas en este conjunto de datos tienen alrededor de 105,951 seguidores.\n",
        "\n",
        "Mediana de amigos: La mitad de las personas en el conjunto de datos tienen menos de 552 amigos, y la otra mitad tiene más de 552 amigos.\n",
        "\n",
        "Desviación estándar de seguidores: Hay una gran variabilidad en el número de seguidores entre las personas en el conjunto de datos. Algunas personas pueden tener un número muy alto de seguidores, mientras que otras tienen muy pocos, lo que crea una gran dispersión en los datos."
      ],
      "metadata": {
        "id": "CbICMh2bM4Zd"
      }
    },
    {
      "cell_type": "code",
      "source": [
        "# Calcular estadísticas de popularidad\n",
        "mean_followers = datos['user_followers'].mean()\n",
        "median_friends = datos['user_friends'].median()\n",
        "std_dev_followers = datos['user_followers'].std()\n",
        "\n",
        "print(f'Media de seguidores: {mean_followers}')\n",
        "print(f'Mediana de amigos: {median_friends}')\n",
        "print(f'Desviación estándar de seguidores: {std_dev_followers}')"
      ],
      "metadata": {
        "colab": {
          "base_uri": "https://localhost:8080/"
        },
        "id": "weCYK-HLIWKM",
        "outputId": "79a38447-1f29-456d-aea6-ec3027b3a26e"
      },
      "execution_count": null,
      "outputs": [
        {
          "output_type": "stream",
          "name": "stdout",
          "text": [
            "Media de seguidores: 105951.31291310657\n",
            "Mediana de amigos: 552.0\n",
            "Desviación estándar de seguidores: 822289.9854933608\n"
          ]
        }
      ]
    },
    {
      "cell_type": "markdown",
      "source": [
        "## Correlación entre seguidores y amigos"
      ],
      "metadata": {
        "id": "Farf_1OZJjXF"
      }
    },
    {
      "cell_type": "markdown",
      "source": [
        "La correlación entre seguidores y amigos (-0.0027) indica una relación débil entre estas dos variables en el conjunto de datos."
      ],
      "metadata": {
        "id": "oBihkOfnN7eS"
      }
    },
    {
      "cell_type": "code",
      "source": [
        "correlation = datos['user_followers'].corr(datos['user_friends'])\n",
        "print(f'Correlación entre seguidores y amigos: {correlation}')"
      ],
      "metadata": {
        "colab": {
          "base_uri": "https://localhost:8080/"
        },
        "id": "WDo0EMSkJXqY",
        "outputId": "194a2d2e-f6ac-4099-d9f1-1a1365648d1f"
      },
      "execution_count": null,
      "outputs": [
        {
          "output_type": "stream",
          "name": "stdout",
          "text": [
            "Correlación entre seguidores y amigos: -0.0027223651183808937\n"
          ]
        }
      ]
    },
    {
      "cell_type": "markdown",
      "source": [
        "## Visualización de la estructura de usuarios respecto a tweets de Covid-19\n"
      ],
      "metadata": {
        "id": "j7CiIsprJhaP"
      }
    },
    {
      "cell_type": "markdown",
      "source": [
        "La finalidad de este gráfico es explorar si existe alguna relación aparente entre el número de seguidores y el número de amigos de los usuarios que han realizado tweets sobre Covid-19. La dispersión de los puntos en el gráfico ayudará a visualizar si hay algún patrón o tendencia en los datos. Por ejemplo, si los puntos se agrupan en una forma específica o siguen alguna dirección, podría indicar una correlación o relación entre estas dos variables."
      ],
      "metadata": {
        "id": "LLswty0WQjWI"
      }
    },
    {
      "cell_type": "code",
      "source": [
        "import matplotlib.pyplot as plt\n",
        "\n",
        "# Graficar scatter plot\n",
        "plt.scatter(datos['user_followers'], datos['user_friends'])\n",
        "plt.xlabel('Seguidores')\n",
        "plt.ylabel('Amigos')\n",
        "plt.title('Relación entre Seguidores y Amigos')\n",
        "plt.show()"
      ],
      "metadata": {
        "colab": {
          "base_uri": "https://localhost:8080/",
          "height": 472
        },
        "id": "8hftIR5gJ0dG",
        "outputId": "2497edc8-4979-4d1e-c161-4b5f9b0213d7"
      },
      "execution_count": null,
      "outputs": [
        {
          "output_type": "display_data",
          "data": {
            "text/plain": [
              "<Figure size 640x480 with 1 Axes>"
            ],
            "image/png": "[encoded data removed]"
          },
          "metadata": {}
        }
      ]
    },
    {
      "cell_type": "markdown",
      "source": [
        "## Uso de K-Means para la segmentación de usuarios"
      ],
      "metadata": {
        "id": "BzBL-tkfJ7Sg"
      }
    },
    {
      "cell_type": "markdown",
      "source": [
        "Este código utiliza el algoritmo K-Means para dividir a los usuarios en grupos basados en sus números de seguidores y amigos, y luego muestra visualmente estos grupos en un gráfico de dispersión. Esta técnica puede ayudar a identificar patrones o segmentos de usuarios con características similares en una población de usuarios."
      ],
      "metadata": {
        "id": "72d5P-8pRm3Y"
      }
    },
    {
      "cell_type": "code",
      "source": [
        "# Preparar datos para clustering\n",
        "X = datos[['user_followers', 'user_friends']]\n",
        "\n",
        "# Crear y entrenar el modelo de K-Means\n",
        "kmeans = KMeans(n_clusters=3)\n",
        "kmeans.fit(X)\n",
        "\n",
        "# Obtener las etiquetas de los clusters para cada usuario\n",
        "labels = kmeans.labels_\n",
        "\n",
        "# Agregar las etiquetas de cluster al DataFrame original\n",
        "datos['cluster'] = labels\n",
        "\n",
        "# Visualizar los clusters\n",
        "plt.scatter(datos['user_followers'], datos['user_friends'], c=labels, cmap='viridis')\n",
        "plt.scatter(kmeans.cluster_centers_[:, 0], kmeans.cluster_centers_[:, 1], s=150, c='red', label='Centroides')\n",
        "\n",
        "plt.xlabel('Seguidores')\n",
        "plt.ylabel('Amigos')\n",
        "plt.title('Segmentación de Usuarios')\n",
        "plt.show()\n",
        "\n",
        "#función\n",
        "def imprimir_distancia_entre_puntos(x_coords, y_coords):\n",
        "    num_centros = len(x_coords)\n",
        "\n",
        "    for i in range(num_centros):\n",
        "        for j in range(i + 1, num_centros):\n",
        "            distancia = np.sqrt((x_coords[i] - x_coords[j])**2 + (y_coords[i] - y_coords[j])**2)\n",
        "            print(f\"Distancia entre el punto {i} y el punto {j}: {distancia:.2f}\")\n",
        "\n",
        "imprimir_distancia_entre_puntos(kmeans.cluster_centers_[:, 0],kmeans.cluster_centers_[:, 1])"
      ],
      "metadata": {
        "colab": {
          "base_uri": "https://localhost:8080/",
          "height": 688
        },
        "id": "StoTW78FJ6nM",
        "outputId": "dab53413-8927-4dff-be2e-b7eca5ab1f3e"
      },
      "execution_count": 18,
      "outputs": [
        {
          "output_type": "stream",
          "name": "stderr",
          "text": [
            "/usr/local/lib/python3.10/dist-packages/sklearn/cluster/_kmeans.py:870: FutureWarning: The default value of `n_init` will change from 10 to 'auto' in 1.4. Set the value of `n_init` explicitly to suppress the warning\n",
            "  warnings.warn(\n",
            "<ipython-input-18-486cd938aaee>:12: SettingWithCopyWarning: \n",
            "A value is trying to be set on a copy of a slice from a DataFrame.\n",
            "Try using .loc[row_indexer,col_indexer] = value instead\n",
            "\n",
            "See the caveats in the documentation: https://pandas.pydata.org/pandas-docs/stable/user_guide/indexing.html#returning-a-view-versus-a-copy\n",
            "  datos['cluster'] = labels\n"
          ]
        },
        {
          "output_type": "display_data",
          "data": {
            "text/plain": [
              "<Figure size 640x480 with 1 Axes>"
            ],
            "image/png": "[encoded data removed]"
          },
          "metadata": {}
        },
        {
          "output_type": "stream",
          "name": "stdout",
          "text": [
            "Distancia entre el punto 0 y el punto 1: 5742783.52\n",
            "Distancia entre el punto 0 y el punto 2: 12977485.55\n",
            "Distancia entre el punto 1 y el punto 2: 7234702.09\n"
          ]
        }
      ]
    },
    {
      "cell_type": "markdown",
      "source": [
        "# Elbow Method para determinar el número óptimo de clusters"
      ],
      "metadata": {
        "id": "IEZkscslLAiV"
      }
    },
    {
      "cell_type": "markdown",
      "source": [
        "El código implementa el Método del Codo para determinar el número óptimo de clusters en el conjunto de datos. La decisión se basa en la observación de cómo la inercia varía en función de diferentes valores de k, y el objetivo es encontrar el valor de k que ofrece un buen equilibrio entre la compacidad de los clusters y la simplicidad del modelo. Por consiguiente, el valor de k sugerido es 3."
      ],
      "metadata": {
        "id": "yH5E5mYIR1Ep"
      }
    },
    {
      "cell_type": "code",
      "source": [
        "X = datos[['user_followers', 'user_friends']]\n",
        "inertias = []\n",
        "\n",
        "\n",
        "for k in range(1, 11):\n",
        "    kmeans = KMeans(n_clusters=k, random_state=42)\n",
        "    kmeans.fit(X)\n",
        "\n",
        "    inertias.append(kmeans.inertia_)\n",
        "\n",
        "plt.plot(range(1, 11), inertias, marker='o')\n",
        "plt.xlabel('Número de Clusters (k)')\n",
        "plt.ylabel('Inercia')\n",
        "plt.title('Método del Codo')\n",
        "plt.show()\n"
      ],
      "metadata": {
        "id": "hqHwoCIVK-q4",
        "colab": {
          "base_uri": "https://localhost:8080/",
          "height": 849
        },
        "outputId": "8fc285ad-b5f3-4d87-da7e-08457ab75304"
      },
      "execution_count": null,
      "outputs": [
        {
          "output_type": "stream",
          "name": "stderr",
          "text": [
            "/usr/local/lib/python3.10/dist-packages/sklearn/cluster/_kmeans.py:870: FutureWarning: The default value of `n_init` will change from 10 to 'auto' in 1.4. Set the value of `n_init` explicitly to suppress the warning\n",
            "  warnings.warn(\n",
            "/usr/local/lib/python3.10/dist-packages/sklearn/cluster/_kmeans.py:870: FutureWarning: The default value of `n_init` will change from 10 to 'auto' in 1.4. Set the value of `n_init` explicitly to suppress the warning\n",
            "  warnings.warn(\n",
            "/usr/local/lib/python3.10/dist-packages/sklearn/cluster/_kmeans.py:870: FutureWarning: The default value of `n_init` will change from 10 to 'auto' in 1.4. Set the value of `n_init` explicitly to suppress the warning\n",
            "  warnings.warn(\n",
            "/usr/local/lib/python3.10/dist-packages/sklearn/cluster/_kmeans.py:870: FutureWarning: The default value of `n_init` will change from 10 to 'auto' in 1.4. Set the value of `n_init` explicitly to suppress the warning\n",
            "  warnings.warn(\n",
            "/usr/local/lib/python3.10/dist-packages/sklearn/cluster/_kmeans.py:870: FutureWarning: The default value of `n_init` will change from 10 to 'auto' in 1.4. Set the value of `n_init` explicitly to suppress the warning\n",
            "  warnings.warn(\n",
            "/usr/local/lib/python3.10/dist-packages/sklearn/cluster/_kmeans.py:870: FutureWarning: The default value of `n_init` will change from 10 to 'auto' in 1.4. Set the value of `n_init` explicitly to suppress the warning\n",
            "  warnings.warn(\n",
            "/usr/local/lib/python3.10/dist-packages/sklearn/cluster/_kmeans.py:870: FutureWarning: The default value of `n_init` will change from 10 to 'auto' in 1.4. Set the value of `n_init` explicitly to suppress the warning\n",
            "  warnings.warn(\n",
            "/usr/local/lib/python3.10/dist-packages/sklearn/cluster/_kmeans.py:870: FutureWarning: The default value of `n_init` will change from 10 to 'auto' in 1.4. Set the value of `n_init` explicitly to suppress the warning\n",
            "  warnings.warn(\n",
            "/usr/local/lib/python3.10/dist-packages/sklearn/cluster/_kmeans.py:870: FutureWarning: The default value of `n_init` will change from 10 to 'auto' in 1.4. Set the value of `n_init` explicitly to suppress the warning\n",
            "  warnings.warn(\n",
            "/usr/local/lib/python3.10/dist-packages/sklearn/cluster/_kmeans.py:870: FutureWarning: The default value of `n_init` will change from 10 to 'auto' in 1.4. Set the value of `n_init` explicitly to suppress the warning\n",
            "  warnings.warn(\n"
          ]
        },
        {
          "output_type": "display_data",
          "data": {
            "text/plain": [
              "<Figure size 640x480 with 1 Axes>"
            ],
            "image/png": "[encoded data removed]"
          },
          "metadata": {}
        }
      ]
    },
    {
      "cell_type": "markdown",
      "source": [
        "###¿Crees que estos centros puedan ser representativos de los datos? ¿Por qué?"
      ],
      "metadata": {
        "id": "3lD8VKn6KNhM"
      }
    },
    {
      "cell_type": "markdown",
      "source": [
        " Los centros de cada cluster se muestran como puntos rojos en la gráfica. Estos representan los valores medios de 'user_followers' y 'user_friends' para cada cluster, lo que indica el punto central de cada grupo.\n",
        "\n",
        "Observando la ubicación de los clusters y los centros, podemos inferir qué tipo de usuarios están siendo agrupados juntos. Por ejemplo, si un cluster tiene centros con un alto número de seguidores y amigos, puede indicar la presencia de usuarios influyentes."
      ],
      "metadata": {
        "id": "C8r76ywuO6Pe"
      }
    },
    {
      "cell_type": "markdown",
      "source": [
        "###¿Cómo obtuviste el valor de k a usar?"
      ],
      "metadata": {
        "id": "5O0k5WsNOW_r"
      }
    },
    {
      "cell_type": "markdown",
      "source": [
        "Se utilizó el método del codo para determinar el valor de K. De forma sencilla, este método permite visualizar el comportamiento del ajuste para varias K, permitiendo ubicar un balance. Un número excesivo de centroides puede describir un modelo complejo que tiende excesivamente a los datos de entrenamiento. Pero muy pocos centroides pueden no capturar adecuadamente las estructuras subyacentes en los datos.\n"
      ],
      "metadata": {
        "id": "gbPSmzLNO631"
      }
    },
    {
      "cell_type": "markdown",
      "source": [
        "###¿Los centros serían más representativos si usaras un valor más alto? ¿Más bajo?"
      ],
      "metadata": {
        "id": "dHlXEkj0OZ8b"
      }
    },
    {
      "cell_type": "markdown",
      "source": [
        "Si se aumenta el valor de K, (crear más clusters), los centros estarán más cerca de los puntos de datos individuales. Esto puede llevar a una representatividad más precisa de los grupos.\n",
        "Sin embargo, si se elige un valor extremadamente alto de K, corres el riesgo de sobreajustar el modelo y obtener clusters muy pequeños y no significativos, lo que dificultaría la interpretación.\n",
        "Valor Más Bajo de K:\n",
        "\n",
        "Si disminuyes el valor de K, los centroides estarán más alejados entre sí y representarán grupos más amplios. Esto puede llevar a una representatividad más general de los clusters.\n",
        "Un valor muy bajo de K puede agrupar usuarios que son muy diferentes entre sí en un solo cluster, lo que podría ocultar patrones interesantes en los datos.\n"
      ],
      "metadata": {
        "id": "uWbLreOHO70a"
      }
    },
    {
      "cell_type": "markdown",
      "source": [
        "###¿Qué distancia tienen los centros entre sí? ¿Hay alguno que este muy cercano a otros?\n",
        "\n"
      ],
      "metadata": {
        "id": "dGZHo6hhOp9w"
      }
    },
    {
      "cell_type": "markdown",
      "source": [
        "* Distancia entre el punto 0 y el punto 1: 5,742,783.52\n",
        "* Distancia entre el punto 0 y el punto 2: 12,977,485.55\n",
        "* Distancia entre el punto 1 y el punto 2: 7,234,702.09\n",
        "\n",
        "En general guardan distancias similares uno de otro. Cosa que comienza a perders a medida que el valor de K aumenta"
      ],
      "metadata": {
        "id": "ZiL1DRlLO8WT"
      }
    },
    {
      "cell_type": "markdown",
      "source": [
        "###¿Qué pasaría con los centros si tuviéramos muchos outliers en el análisis de cajas y bigotes?"
      ],
      "metadata": {
        "id": "_he8hDs_Oyc8"
      }
    },
    {
      "cell_type": "markdown",
      "source": [
        "A grandes razgos podrían influenciar el desplazamiento de centros. Esto para minimizar la suma de las distancias al cuadrado de los valores atípicos al centro. O también favorecer que un centro englobe más puntos (como para este caso). Y al mismo tiempo promover que sea necesario otro cluster si son demasiados. Específicamente al algoritmo de Kmeans podría tomarle más iteraciones llegar a una asignación estable de centros, ya que como el inicial se elige aleatoriamente, si son demasiadas sería probable tomar un centro inicial alejado si se inicia con un outlier."
      ],
      "metadata": {
        "id": "shn4jI3eO-JI"
      }
    },
    {
      "cell_type": "markdown",
      "source": [
        "###¿Qué puedes decir de los datos basándose en los centros?"
      ],
      "metadata": {
        "id": "c4VLghBcO1nA"
      }
    },
    {
      "cell_type": "markdown",
      "source": [
        "Debido a la escala del gráfico (cantidades en el eje horizontal con respecto a las cantidades en el eje vertical) es característico que la mayoría de los usuarios (puntos) se encuentren cercanos al eje x (pocos seguidos). Fijando esta distancia como estandard podría decirse que hay tres casos distinguibles dados por los clusters encontrados. El primero, que engloba usuarios con demasiados amigos (seguidos) y muy pocos seguidores podría dar cuenta de usuarios bots, ya que de hecho tomando en cuenta la escala antes mencionada es el único cluster que presenta una relación muy por arriba de la distancia estandard respecto del eje x. El otro caso extremo retrataría a los usuarios influencers, quienes cuentan con una amplia base de seguidores con muy pocos amigos (seguidos). Y el caso intermedio que podría argumentarse se trata de usuarios promedio con seguidos (amigos) estandar y varios seguidos."
      ],
      "metadata": {
        "id": "JtGMqurnO-xq"
      }
    }
  ]
}